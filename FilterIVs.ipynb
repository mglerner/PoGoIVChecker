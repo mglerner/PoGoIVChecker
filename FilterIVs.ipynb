{
 "cells": [
  {
   "cell_type": "markdown",
   "id": "14956a63-cdd7-41da-a8c9-91d2187dc69b",
   "metadata": {},
   "source": [
    "# TODO:\n",
    "\n",
    "* Factor this\n",
    "* Put it into the real python code so we can quiz people about battle outcomes (which need actual damage done)\n",
    "* This code disagrees with pvpivs for the stat product, and it's because of floating point differences. The relative rankings will be the same.\n",
    "* Put something in that makes it easier to switch between level 50 and level 40 as max"
   ]
  },
  {
   "cell_type": "markdown",
   "id": "dd057160-22f6-487e-b6eb-45d51b387515",
   "metadata": {},
   "source": [
    "So far, I've put in at least some info on the following mons:\n",
    "\n",
    "* Walrein\n",
    "* Venusaur\n",
    "* Swampert\n",
    "* Jumpluff\n",
    "* Deoxys (Defense)\n",
    "* Dewgong\n",
    "* Sandslash\n",
    "* Whimsicott\n",
    "* Registeel\n",
    "* Azumarill\n",
    "* Araquanid\n",
    "* Golem\n",
    "* Marowak\n",
    "* Obstagoon\n",
    "* Linoone (Galarian)\n",
    "* Medicham\n",
    "* Dunsparce\n",
    "* Stunfisk (Galarian)\n",
    "* Lickitung\n",
    "* Toxapex\n",
    "* Toxicroak\n",
    "* Trevenant\n",
    "\n",
    "You run the below cells, and then replace e.g. 'Trevenant' with the mon you're interested in\n",
    "\n",
    "It shows you all of the relevant things that are Trevenant ... or that you can evolve to Trevenant."
   ]
  },
  {
   "cell_type": "code",
   "execution_count": 5,
   "id": "08791722-3815-4f89-acf2-4f57acf39d92",
   "metadata": {},
   "outputs": [],
   "source": [
    "import imp\n",
    "import pvprankings\n",
    "import pandas as pd\n",
    "imp.reload(pvprankings)\n",
    "df = pd.read_csv('poke_genie_export.csv')"
   ]
  },
  {
   "cell_type": "code",
   "execution_count": 31,
   "id": "8d104e1c-bc81-433d-a13e-d767d3975c92",
   "metadata": {},
   "outputs": [
    {
     "data": {
      "text/markdown": [
       "# Obstagoons you have, according to the Swag Man"
      ],
      "text/plain": [
       "<IPython.core.display.Markdown object>"
      ]
     },
     "metadata": {},
     "output_type": "display_data"
    },
    {
     "data": {
      "text/markdown": [
       "Check out the article [here](https://gamepress.gg/pokemongo/obstagoon-pvp-iv-deep-dive)!"
      ],
      "text/plain": [
       "<IPython.core.display.Markdown object>"
      ]
     },
     "metadata": {},
     "output_type": "display_data"
    },
    {
     "data": {
      "text/markdown": [
       "Check out the videos: [here](https://www.youtube.com/watch?v=XEygOnJDnlY)!"
      ],
      "text/plain": [
       "<IPython.core.display.Markdown object>"
      ]
     },
     "metadata": {},
     "output_type": "display_data"
    },
    {
     "data": {
      "text/markdown": [
       "Extra Tips: You want three of each league, one with obstruct and one without, and one with high bulk. Also, this does not filter for galarian zig/lin; you have to do that yourself.\n",
       " For UL you really want 148+ attack, then 172 HP"
      ],
      "text/plain": [
       "<IPython.core.display.Markdown object>"
      ]
     },
     "metadata": {},
     "output_type": "display_data"
    },
    {
     "data": {
      "text/markdown": [
       "## Great League"
      ],
      "text/plain": [
       "<IPython.core.display.Markdown object>"
      ]
     },
     "metadata": {},
     "output_type": "display_data"
    },
    {
     "data": {
      "text/markdown": [
       "### Super Premium Atk "
      ],
      "text/plain": [
       "<IPython.core.display.Markdown object>"
      ]
     },
     "metadata": {},
     "output_type": "display_data"
    },
    {
     "data": {
      "text/html": [
       "<div>\n",
       "<style scoped>\n",
       "    .dataframe tbody tr th:only-of-type {\n",
       "        vertical-align: middle;\n",
       "    }\n",
       "\n",
       "    .dataframe tbody tr th {\n",
       "        vertical-align: top;\n",
       "    }\n",
       "\n",
       "    .dataframe thead th {\n",
       "        text-align: right;\n",
       "    }\n",
       "</style>\n",
       "<table border=\"1\" class=\"dataframe\">\n",
       "  <thead>\n",
       "    <tr style=\"text-align: right;\">\n",
       "      <th></th>\n",
       "      <th>CP</th>\n",
       "      <th>max CP</th>\n",
       "      <th>level</th>\n",
       "      <th>attack</th>\n",
       "      <th>defense</th>\n",
       "      <th>stamina</th>\n",
       "      <th>a</th>\n",
       "      <th>d</th>\n",
       "      <th>s</th>\n",
       "      <th>statprod</th>\n",
       "    </tr>\n",
       "  </thead>\n",
       "  <tbody>\n",
       "  </tbody>\n",
       "</table>\n",
       "</div>"
      ],
      "text/plain": [
       "Empty DataFrame\n",
       "Columns: [CP, max CP, level, attack, defense, stamina, a, d, s, statprod]\n",
       "Index: []"
      ]
     },
     "metadata": {},
     "output_type": "display_data"
    },
    {
     "data": {
      "text/markdown": [
       "### Premium Atk (115.5 Atk slightly better, 123.56 Def 137 HP better)"
      ],
      "text/plain": [
       "<IPython.core.display.Markdown object>"
      ]
     },
     "metadata": {},
     "output_type": "display_data"
    },
    {
     "data": {
      "text/html": [
       "<div>\n",
       "<style scoped>\n",
       "    .dataframe tbody tr th:only-of-type {\n",
       "        vertical-align: middle;\n",
       "    }\n",
       "\n",
       "    .dataframe tbody tr th {\n",
       "        vertical-align: top;\n",
       "    }\n",
       "\n",
       "    .dataframe thead th {\n",
       "        text-align: right;\n",
       "    }\n",
       "</style>\n",
       "<table border=\"1\" class=\"dataframe\">\n",
       "  <thead>\n",
       "    <tr style=\"text-align: right;\">\n",
       "      <th></th>\n",
       "      <th>CP</th>\n",
       "      <th>max CP</th>\n",
       "      <th>level</th>\n",
       "      <th>attack</th>\n",
       "      <th>defense</th>\n",
       "      <th>stamina</th>\n",
       "      <th>a</th>\n",
       "      <th>d</th>\n",
       "      <th>s</th>\n",
       "      <th>statprod</th>\n",
       "    </tr>\n",
       "  </thead>\n",
       "  <tbody>\n",
       "    <tr>\n",
       "      <th>25</th>\n",
       "      <td>1500</td>\n",
       "      <td>1500</td>\n",
       "      <td>22.0</td>\n",
       "      <td>115.288346</td>\n",
       "      <td>124.060286</td>\n",
       "      <td>136</td>\n",
       "      <td>4.0</td>\n",
       "      <td>4.0</td>\n",
       "      <td>6.0</td>\n",
       "      <td>1945167</td>\n",
       "    </tr>\n",
       "    <tr>\n",
       "      <th>12</th>\n",
       "      <td>199</td>\n",
       "      <td>1496</td>\n",
       "      <td>20.5</td>\n",
       "      <td>115.521320</td>\n",
       "      <td>123.384028</td>\n",
       "      <td>136</td>\n",
       "      <td>11.0</td>\n",
       "      <td>10.0</td>\n",
       "      <td>13.0</td>\n",
       "      <td>1938474</td>\n",
       "    </tr>\n",
       "    <tr>\n",
       "      <th>26</th>\n",
       "      <td>1500</td>\n",
       "      <td>1500</td>\n",
       "      <td>20.0</td>\n",
       "      <td>115.895600</td>\n",
       "      <td>123.661800</td>\n",
       "      <td>135</td>\n",
       "      <td>14.0</td>\n",
       "      <td>13.0</td>\n",
       "      <td>15.0</td>\n",
       "      <td>1934800</td>\n",
       "    </tr>\n",
       "    <tr>\n",
       "      <th>27</th>\n",
       "      <td>1493</td>\n",
       "      <td>1493</td>\n",
       "      <td>20.0</td>\n",
       "      <td>115.298200</td>\n",
       "      <td>123.661800</td>\n",
       "      <td>135</td>\n",
       "      <td>13.0</td>\n",
       "      <td>13.0</td>\n",
       "      <td>15.0</td>\n",
       "      <td>1924827</td>\n",
       "    </tr>\n",
       "  </tbody>\n",
       "</table>\n",
       "</div>"
      ],
      "text/plain": [
       "      CP  max CP  level      attack     defense  stamina     a     d     s  \\\n",
       "25  1500    1500   22.0  115.288346  124.060286      136   4.0   4.0   6.0   \n",
       "12   199    1496   20.5  115.521320  123.384028      136  11.0  10.0  13.0   \n",
       "26  1500    1500   20.0  115.895600  123.661800      135  14.0  13.0  15.0   \n",
       "27  1493    1493   20.0  115.298200  123.661800      135  13.0  13.0  15.0   \n",
       "\n",
       "    statprod  \n",
       "25   1945167  \n",
       "12   1938474  \n",
       "26   1934800  \n",
       "27   1924827  "
      ]
     },
     "metadata": {},
     "output_type": "display_data"
    },
    {
     "data": {
      "text/markdown": [
       "### Bulk focus"
      ],
      "text/plain": [
       "<IPython.core.display.Markdown object>"
      ]
     },
     "metadata": {},
     "output_type": "display_data"
    },
    {
     "data": {
      "text/html": [
       "<div>\n",
       "<style scoped>\n",
       "    .dataframe tbody tr th:only-of-type {\n",
       "        vertical-align: middle;\n",
       "    }\n",
       "\n",
       "    .dataframe tbody tr th {\n",
       "        vertical-align: top;\n",
       "    }\n",
       "\n",
       "    .dataframe thead th {\n",
       "        text-align: right;\n",
       "    }\n",
       "</style>\n",
       "<table border=\"1\" class=\"dataframe\">\n",
       "  <thead>\n",
       "    <tr style=\"text-align: right;\">\n",
       "      <th></th>\n",
       "      <th>CP</th>\n",
       "      <th>max CP</th>\n",
       "      <th>level</th>\n",
       "      <th>attack</th>\n",
       "      <th>defense</th>\n",
       "      <th>stamina</th>\n",
       "      <th>a</th>\n",
       "      <th>d</th>\n",
       "      <th>s</th>\n",
       "      <th>statprod</th>\n",
       "    </tr>\n",
       "  </thead>\n",
       "  <tbody>\n",
       "    <tr>\n",
       "      <th>20</th>\n",
       "      <td>10</td>\n",
       "      <td>1482</td>\n",
       "      <td>21.5</td>\n",
       "      <td>111.492742</td>\n",
       "      <td>126.358441</td>\n",
       "      <td>139</td>\n",
       "      <td>0.0</td>\n",
       "      <td>10.0</td>\n",
       "      <td>14.0</td>\n",
       "      <td>1958238</td>\n",
       "    </tr>\n",
       "  </tbody>\n",
       "</table>\n",
       "</div>"
      ],
      "text/plain": [
       "    CP  max CP  level      attack     defense  stamina    a     d     s  \\\n",
       "20  10    1482   21.5  111.492742  126.358441      139  0.0  10.0  14.0   \n",
       "\n",
       "    statprod  \n",
       "20   1958238  "
      ]
     },
     "metadata": {},
     "output_type": "display_data"
    },
    {
     "data": {
      "text/markdown": [
       "## Ultra League"
      ],
      "text/plain": [
       "<IPython.core.display.Markdown object>"
      ]
     },
     "metadata": {},
     "output_type": "display_data"
    },
    {
     "data": {
      "text/markdown": [
       "### Unicorn"
      ],
      "text/plain": [
       "<IPython.core.display.Markdown object>"
      ]
     },
     "metadata": {},
     "output_type": "display_data"
    },
    {
     "data": {
      "text/html": [
       "<div>\n",
       "<style scoped>\n",
       "    .dataframe tbody tr th:only-of-type {\n",
       "        vertical-align: middle;\n",
       "    }\n",
       "\n",
       "    .dataframe tbody tr th {\n",
       "        vertical-align: top;\n",
       "    }\n",
       "\n",
       "    .dataframe thead th {\n",
       "        text-align: right;\n",
       "    }\n",
       "</style>\n",
       "<table border=\"1\" class=\"dataframe\">\n",
       "  <thead>\n",
       "    <tr style=\"text-align: right;\">\n",
       "      <th></th>\n",
       "      <th>CP</th>\n",
       "      <th>max CP</th>\n",
       "      <th>level</th>\n",
       "      <th>attack</th>\n",
       "      <th>defense</th>\n",
       "      <th>stamina</th>\n",
       "      <th>a</th>\n",
       "      <th>d</th>\n",
       "      <th>s</th>\n",
       "      <th>statprod</th>\n",
       "    </tr>\n",
       "  </thead>\n",
       "  <tbody>\n",
       "  </tbody>\n",
       "</table>\n",
       "</div>"
      ],
      "text/plain": [
       "Empty DataFrame\n",
       "Columns: [CP, max CP, level, attack, defense, stamina, a, d, s, statprod]\n",
       "Index: []"
      ]
     },
     "metadata": {},
     "output_type": "display_data"
    },
    {
     "data": {
      "text/markdown": [
       "### Bare minimum"
      ],
      "text/plain": [
       "<IPython.core.display.Markdown object>"
      ]
     },
     "metadata": {},
     "output_type": "display_data"
    },
    {
     "data": {
      "text/html": [
       "<div>\n",
       "<style scoped>\n",
       "    .dataframe tbody tr th:only-of-type {\n",
       "        vertical-align: middle;\n",
       "    }\n",
       "\n",
       "    .dataframe tbody tr th {\n",
       "        vertical-align: top;\n",
       "    }\n",
       "\n",
       "    .dataframe thead th {\n",
       "        text-align: right;\n",
       "    }\n",
       "</style>\n",
       "<table border=\"1\" class=\"dataframe\">\n",
       "  <thead>\n",
       "    <tr style=\"text-align: right;\">\n",
       "      <th></th>\n",
       "      <th>CP</th>\n",
       "      <th>max CP</th>\n",
       "      <th>level</th>\n",
       "      <th>attack</th>\n",
       "      <th>defense</th>\n",
       "      <th>stamina</th>\n",
       "      <th>a</th>\n",
       "      <th>d</th>\n",
       "      <th>s</th>\n",
       "      <th>statprod</th>\n",
       "    </tr>\n",
       "  </thead>\n",
       "  <tbody>\n",
       "    <tr>\n",
       "      <th>19</th>\n",
       "      <td>19</td>\n",
       "      <td>2495</td>\n",
       "      <td>40.5</td>\n",
       "      <td>148.254342</td>\n",
       "      <td>161.732009</td>\n",
       "      <td>175</td>\n",
       "      <td>7.0</td>\n",
       "      <td>10.0</td>\n",
       "      <td>9.0</td>\n",
       "      <td>4196057</td>\n",
       "    </tr>\n",
       "    <tr>\n",
       "      <th>11</th>\n",
       "      <td>205</td>\n",
       "      <td>2500</td>\n",
       "      <td>37.5</td>\n",
       "      <td>149.004473</td>\n",
       "      <td>159.869382</td>\n",
       "      <td>176</td>\n",
       "      <td>12.0</td>\n",
       "      <td>12.0</td>\n",
       "      <td>15.0</td>\n",
       "      <td>4192540</td>\n",
       "    </tr>\n",
       "    <tr>\n",
       "      <th>25</th>\n",
       "      <td>1500</td>\n",
       "      <td>2494</td>\n",
       "      <td>43.5</td>\n",
       "      <td>148.635200</td>\n",
       "      <td>159.944400</td>\n",
       "      <td>176</td>\n",
       "      <td>4.0</td>\n",
       "      <td>4.0</td>\n",
       "      <td>6.0</td>\n",
       "      <td>4184112</td>\n",
       "    </tr>\n",
       "    <tr>\n",
       "      <th>7</th>\n",
       "      <td>268</td>\n",
       "      <td>2499</td>\n",
       "      <td>38.0</td>\n",
       "      <td>148.776155</td>\n",
       "      <td>159.681214</td>\n",
       "      <td>176</td>\n",
       "      <td>11.0</td>\n",
       "      <td>11.0</td>\n",
       "      <td>15.0</td>\n",
       "      <td>4181189</td>\n",
       "    </tr>\n",
       "    <tr>\n",
       "      <th>18</th>\n",
       "      <td>67</td>\n",
       "      <td>2490</td>\n",
       "      <td>41.5</td>\n",
       "      <td>148.390803</td>\n",
       "      <td>155.571003</td>\n",
       "      <td>181</td>\n",
       "      <td>6.0</td>\n",
       "      <td>1.0</td>\n",
       "      <td>15.0</td>\n",
       "      <td>4178440</td>\n",
       "    </tr>\n",
       "    <tr>\n",
       "      <th>6</th>\n",
       "      <td>277</td>\n",
       "      <td>2494</td>\n",
       "      <td>37.0</td>\n",
       "      <td>148.451808</td>\n",
       "      <td>160.822792</td>\n",
       "      <td>175</td>\n",
       "      <td>12.0</td>\n",
       "      <td>14.0</td>\n",
       "      <td>15.0</td>\n",
       "      <td>4178025</td>\n",
       "    </tr>\n",
       "    <tr>\n",
       "      <th>24</th>\n",
       "      <td>2188</td>\n",
       "      <td>2493</td>\n",
       "      <td>42.0</td>\n",
       "      <td>148.055500</td>\n",
       "      <td>164.061500</td>\n",
       "      <td>172</td>\n",
       "      <td>5.0</td>\n",
       "      <td>11.0</td>\n",
       "      <td>4.0</td>\n",
       "      <td>4177915</td>\n",
       "    </tr>\n",
       "    <tr>\n",
       "      <th>23</th>\n",
       "      <td>2496</td>\n",
       "      <td>2496</td>\n",
       "      <td>37.0</td>\n",
       "      <td>149.224995</td>\n",
       "      <td>161.595979</td>\n",
       "      <td>173</td>\n",
       "      <td>13.0</td>\n",
       "      <td>15.0</td>\n",
       "      <td>12.0</td>\n",
       "      <td>4171749</td>\n",
       "    </tr>\n",
       "    <tr>\n",
       "      <th>9</th>\n",
       "      <td>259</td>\n",
       "      <td>2495</td>\n",
       "      <td>37.5</td>\n",
       "      <td>149.004473</td>\n",
       "      <td>159.869382</td>\n",
       "      <td>175</td>\n",
       "      <td>12.0</td>\n",
       "      <td>12.0</td>\n",
       "      <td>14.0</td>\n",
       "      <td>4168719</td>\n",
       "    </tr>\n",
       "    <tr>\n",
       "      <th>30</th>\n",
       "      <td>1117</td>\n",
       "      <td>2495</td>\n",
       "      <td>37.0</td>\n",
       "      <td>149.224995</td>\n",
       "      <td>159.276419</td>\n",
       "      <td>175</td>\n",
       "      <td>13.0</td>\n",
       "      <td>12.0</td>\n",
       "      <td>15.0</td>\n",
       "      <td>4159403</td>\n",
       "    </tr>\n",
       "    <tr>\n",
       "      <th>26</th>\n",
       "      <td>1500</td>\n",
       "      <td>2495</td>\n",
       "      <td>36.5</td>\n",
       "      <td>149.437670</td>\n",
       "      <td>159.451534</td>\n",
       "      <td>174</td>\n",
       "      <td>14.0</td>\n",
       "      <td>13.0</td>\n",
       "      <td>15.0</td>\n",
       "      <td>4146083</td>\n",
       "    </tr>\n",
       "    <tr>\n",
       "      <th>12</th>\n",
       "      <td>199</td>\n",
       "      <td>2482</td>\n",
       "      <td>38.0</td>\n",
       "      <td>148.776155</td>\n",
       "      <td>158.902281</td>\n",
       "      <td>175</td>\n",
       "      <td>11.0</td>\n",
       "      <td>10.0</td>\n",
       "      <td>13.0</td>\n",
       "      <td>4137152</td>\n",
       "    </tr>\n",
       "    <tr>\n",
       "      <th>15</th>\n",
       "      <td>81</td>\n",
       "      <td>2490</td>\n",
       "      <td>36.5</td>\n",
       "      <td>150.207967</td>\n",
       "      <td>157.910939</td>\n",
       "      <td>174</td>\n",
       "      <td>15.0</td>\n",
       "      <td>11.0</td>\n",
       "      <td>14.0</td>\n",
       "      <td>4127189</td>\n",
       "    </tr>\n",
       "    <tr>\n",
       "      <th>27</th>\n",
       "      <td>1493</td>\n",
       "      <td>2482</td>\n",
       "      <td>36.5</td>\n",
       "      <td>148.667372</td>\n",
       "      <td>159.451534</td>\n",
       "      <td>174</td>\n",
       "      <td>13.0</td>\n",
       "      <td>13.0</td>\n",
       "      <td>15.0</td>\n",
       "      <td>4124711</td>\n",
       "    </tr>\n",
       "    <tr>\n",
       "      <th>4</th>\n",
       "      <td>286</td>\n",
       "      <td>2483</td>\n",
       "      <td>36.0</td>\n",
       "      <td>149.642448</td>\n",
       "      <td>158.851214</td>\n",
       "      <td>173</td>\n",
       "      <td>15.0</td>\n",
       "      <td>13.0</td>\n",
       "      <td>14.0</td>\n",
       "      <td>4112363</td>\n",
       "    </tr>\n",
       "    <tr>\n",
       "      <th>17</th>\n",
       "      <td>30</td>\n",
       "      <td>2496</td>\n",
       "      <td>43.0</td>\n",
       "      <td>151.396400</td>\n",
       "      <td>157.838800</td>\n",
       "      <td>172</td>\n",
       "      <td>8.0</td>\n",
       "      <td>2.0</td>\n",
       "      <td>2.0</td>\n",
       "      <td>4110150</td>\n",
       "    </tr>\n",
       "    <tr>\n",
       "      <th>13</th>\n",
       "      <td>171</td>\n",
       "      <td>2495</td>\n",
       "      <td>41.0</td>\n",
       "      <td>151.902302</td>\n",
       "      <td>154.288202</td>\n",
       "      <td>174</td>\n",
       "      <td>11.0</td>\n",
       "      <td>0.0</td>\n",
       "      <td>8.0</td>\n",
       "      <td>4077991</td>\n",
       "    </tr>\n",
       "  </tbody>\n",
       "</table>\n",
       "</div>"
      ],
      "text/plain": [
       "      CP  max CP  level      attack     defense  stamina     a     d     s  \\\n",
       "19    19    2495   40.5  148.254342  161.732009      175   7.0  10.0   9.0   \n",
       "11   205    2500   37.5  149.004473  159.869382      176  12.0  12.0  15.0   \n",
       "25  1500    2494   43.5  148.635200  159.944400      176   4.0   4.0   6.0   \n",
       "7    268    2499   38.0  148.776155  159.681214      176  11.0  11.0  15.0   \n",
       "18    67    2490   41.5  148.390803  155.571003      181   6.0   1.0  15.0   \n",
       "6    277    2494   37.0  148.451808  160.822792      175  12.0  14.0  15.0   \n",
       "24  2188    2493   42.0  148.055500  164.061500      172   5.0  11.0   4.0   \n",
       "23  2496    2496   37.0  149.224995  161.595979      173  13.0  15.0  12.0   \n",
       "9    259    2495   37.5  149.004473  159.869382      175  12.0  12.0  14.0   \n",
       "30  1117    2495   37.0  149.224995  159.276419      175  13.0  12.0  15.0   \n",
       "26  1500    2495   36.5  149.437670  159.451534      174  14.0  13.0  15.0   \n",
       "12   199    2482   38.0  148.776155  158.902281      175  11.0  10.0  13.0   \n",
       "15    81    2490   36.5  150.207967  157.910939      174  15.0  11.0  14.0   \n",
       "27  1493    2482   36.5  148.667372  159.451534      174  13.0  13.0  15.0   \n",
       "4    286    2483   36.0  149.642448  158.851214      173  15.0  13.0  14.0   \n",
       "17    30    2496   43.0  151.396400  157.838800      172   8.0   2.0   2.0   \n",
       "13   171    2495   41.0  151.902302  154.288202      174  11.0   0.0   8.0   \n",
       "\n",
       "    statprod  \n",
       "19   4196057  \n",
       "11   4192540  \n",
       "25   4184112  \n",
       "7    4181189  \n",
       "18   4178440  \n",
       "6    4178025  \n",
       "24   4177915  \n",
       "23   4171749  \n",
       "9    4168719  \n",
       "30   4159403  \n",
       "26   4146083  \n",
       "12   4137152  \n",
       "15   4127189  \n",
       "27   4124711  \n",
       "4    4112363  \n",
       "17   4110150  \n",
       "13   4077991  "
      ]
     },
     "metadata": {},
     "output_type": "display_data"
    },
    {
     "data": {
      "text/markdown": [
       "### General Atk"
      ],
      "text/plain": [
       "<IPython.core.display.Markdown object>"
      ]
     },
     "metadata": {},
     "output_type": "display_data"
    },
    {
     "data": {
      "text/html": [
       "<div>\n",
       "<style scoped>\n",
       "    .dataframe tbody tr th:only-of-type {\n",
       "        vertical-align: middle;\n",
       "    }\n",
       "\n",
       "    .dataframe tbody tr th {\n",
       "        vertical-align: top;\n",
       "    }\n",
       "\n",
       "    .dataframe thead th {\n",
       "        text-align: right;\n",
       "    }\n",
       "</style>\n",
       "<table border=\"1\" class=\"dataframe\">\n",
       "  <thead>\n",
       "    <tr style=\"text-align: right;\">\n",
       "      <th></th>\n",
       "      <th>CP</th>\n",
       "      <th>max CP</th>\n",
       "      <th>level</th>\n",
       "      <th>attack</th>\n",
       "      <th>defense</th>\n",
       "      <th>stamina</th>\n",
       "      <th>a</th>\n",
       "      <th>d</th>\n",
       "      <th>s</th>\n",
       "      <th>statprod</th>\n",
       "    </tr>\n",
       "  </thead>\n",
       "  <tbody>\n",
       "    <tr>\n",
       "      <th>24</th>\n",
       "      <td>2188</td>\n",
       "      <td>2493</td>\n",
       "      <td>42.0</td>\n",
       "      <td>148.0555</td>\n",
       "      <td>164.0615</td>\n",
       "      <td>172</td>\n",
       "      <td>5.0</td>\n",
       "      <td>11.0</td>\n",
       "      <td>4.0</td>\n",
       "      <td>4177915</td>\n",
       "    </tr>\n",
       "  </tbody>\n",
       "</table>\n",
       "</div>"
      ],
      "text/plain": [
       "      CP  max CP  level    attack   defense  stamina    a     d    s  statprod\n",
       "24  2188    2493   42.0  148.0555  164.0615      172  5.0  11.0  4.0   4177915"
      ]
     },
     "metadata": {},
     "output_type": "display_data"
    },
    {
     "data": {
      "text/markdown": [
       "### General Atk+"
      ],
      "text/plain": [
       "<IPython.core.display.Markdown object>"
      ]
     },
     "metadata": {},
     "output_type": "display_data"
    },
    {
     "data": {
      "text/html": [
       "<div>\n",
       "<style scoped>\n",
       "    .dataframe tbody tr th:only-of-type {\n",
       "        vertical-align: middle;\n",
       "    }\n",
       "\n",
       "    .dataframe tbody tr th {\n",
       "        vertical-align: top;\n",
       "    }\n",
       "\n",
       "    .dataframe thead th {\n",
       "        text-align: right;\n",
       "    }\n",
       "</style>\n",
       "<table border=\"1\" class=\"dataframe\">\n",
       "  <thead>\n",
       "    <tr style=\"text-align: right;\">\n",
       "      <th></th>\n",
       "      <th>CP</th>\n",
       "      <th>max CP</th>\n",
       "      <th>level</th>\n",
       "      <th>attack</th>\n",
       "      <th>defense</th>\n",
       "      <th>stamina</th>\n",
       "      <th>a</th>\n",
       "      <th>d</th>\n",
       "      <th>s</th>\n",
       "      <th>statprod</th>\n",
       "    </tr>\n",
       "  </thead>\n",
       "  <tbody>\n",
       "    <tr>\n",
       "      <th>24</th>\n",
       "      <td>2188</td>\n",
       "      <td>2493</td>\n",
       "      <td>42.0</td>\n",
       "      <td>148.0555</td>\n",
       "      <td>164.0615</td>\n",
       "      <td>172</td>\n",
       "      <td>5.0</td>\n",
       "      <td>11.0</td>\n",
       "      <td>4.0</td>\n",
       "      <td>4177915</td>\n",
       "    </tr>\n",
       "  </tbody>\n",
       "</table>\n",
       "</div>"
      ],
      "text/plain": [
       "      CP  max CP  level    attack   defense  stamina    a     d    s  statprod\n",
       "24  2188    2493   42.0  148.0555  164.0615      172  5.0  11.0  4.0   4177915"
      ]
     },
     "metadata": {},
     "output_type": "display_data"
    },
    {
     "data": {
      "text/markdown": [
       "### Mirror Focus"
      ],
      "text/plain": [
       "<IPython.core.display.Markdown object>"
      ]
     },
     "metadata": {},
     "output_type": "display_data"
    },
    {
     "data": {
      "text/html": [
       "<div>\n",
       "<style scoped>\n",
       "    .dataframe tbody tr th:only-of-type {\n",
       "        vertical-align: middle;\n",
       "    }\n",
       "\n",
       "    .dataframe tbody tr th {\n",
       "        vertical-align: top;\n",
       "    }\n",
       "\n",
       "    .dataframe thead th {\n",
       "        text-align: right;\n",
       "    }\n",
       "</style>\n",
       "<table border=\"1\" class=\"dataframe\">\n",
       "  <thead>\n",
       "    <tr style=\"text-align: right;\">\n",
       "      <th></th>\n",
       "      <th>CP</th>\n",
       "      <th>max CP</th>\n",
       "      <th>level</th>\n",
       "      <th>attack</th>\n",
       "      <th>defense</th>\n",
       "      <th>stamina</th>\n",
       "      <th>a</th>\n",
       "      <th>d</th>\n",
       "      <th>s</th>\n",
       "      <th>statprod</th>\n",
       "    </tr>\n",
       "  </thead>\n",
       "  <tbody>\n",
       "    <tr>\n",
       "      <th>23</th>\n",
       "      <td>2496</td>\n",
       "      <td>2496</td>\n",
       "      <td>37.0</td>\n",
       "      <td>149.224995</td>\n",
       "      <td>161.595979</td>\n",
       "      <td>173</td>\n",
       "      <td>13.0</td>\n",
       "      <td>15.0</td>\n",
       "      <td>12.0</td>\n",
       "      <td>4171749</td>\n",
       "    </tr>\n",
       "    <tr>\n",
       "      <th>30</th>\n",
       "      <td>1117</td>\n",
       "      <td>2495</td>\n",
       "      <td>37.0</td>\n",
       "      <td>149.224995</td>\n",
       "      <td>159.276419</td>\n",
       "      <td>175</td>\n",
       "      <td>13.0</td>\n",
       "      <td>12.0</td>\n",
       "      <td>15.0</td>\n",
       "      <td>4159403</td>\n",
       "    </tr>\n",
       "    <tr>\n",
       "      <th>26</th>\n",
       "      <td>1500</td>\n",
       "      <td>2495</td>\n",
       "      <td>36.5</td>\n",
       "      <td>149.437670</td>\n",
       "      <td>159.451534</td>\n",
       "      <td>174</td>\n",
       "      <td>14.0</td>\n",
       "      <td>13.0</td>\n",
       "      <td>15.0</td>\n",
       "      <td>4146083</td>\n",
       "    </tr>\n",
       "    <tr>\n",
       "      <th>15</th>\n",
       "      <td>81</td>\n",
       "      <td>2490</td>\n",
       "      <td>36.5</td>\n",
       "      <td>150.207967</td>\n",
       "      <td>157.910939</td>\n",
       "      <td>174</td>\n",
       "      <td>15.0</td>\n",
       "      <td>11.0</td>\n",
       "      <td>14.0</td>\n",
       "      <td>4127189</td>\n",
       "    </tr>\n",
       "    <tr>\n",
       "      <th>4</th>\n",
       "      <td>286</td>\n",
       "      <td>2483</td>\n",
       "      <td>36.0</td>\n",
       "      <td>149.642448</td>\n",
       "      <td>158.851214</td>\n",
       "      <td>173</td>\n",
       "      <td>15.0</td>\n",
       "      <td>13.0</td>\n",
       "      <td>14.0</td>\n",
       "      <td>4112363</td>\n",
       "    </tr>\n",
       "    <tr>\n",
       "      <th>17</th>\n",
       "      <td>30</td>\n",
       "      <td>2496</td>\n",
       "      <td>43.0</td>\n",
       "      <td>151.396400</td>\n",
       "      <td>157.838800</td>\n",
       "      <td>172</td>\n",
       "      <td>8.0</td>\n",
       "      <td>2.0</td>\n",
       "      <td>2.0</td>\n",
       "      <td>4110150</td>\n",
       "    </tr>\n",
       "    <tr>\n",
       "      <th>13</th>\n",
       "      <td>171</td>\n",
       "      <td>2495</td>\n",
       "      <td>41.0</td>\n",
       "      <td>151.902302</td>\n",
       "      <td>154.288202</td>\n",
       "      <td>174</td>\n",
       "      <td>11.0</td>\n",
       "      <td>0.0</td>\n",
       "      <td>8.0</td>\n",
       "      <td>4077991</td>\n",
       "    </tr>\n",
       "  </tbody>\n",
       "</table>\n",
       "</div>"
      ],
      "text/plain": [
       "      CP  max CP  level      attack     defense  stamina     a     d     s  \\\n",
       "23  2496    2496   37.0  149.224995  161.595979      173  13.0  15.0  12.0   \n",
       "30  1117    2495   37.0  149.224995  159.276419      175  13.0  12.0  15.0   \n",
       "26  1500    2495   36.5  149.437670  159.451534      174  14.0  13.0  15.0   \n",
       "15    81    2490   36.5  150.207967  157.910939      174  15.0  11.0  14.0   \n",
       "4    286    2483   36.0  149.642448  158.851214      173  15.0  13.0  14.0   \n",
       "17    30    2496   43.0  151.396400  157.838800      172   8.0   2.0   2.0   \n",
       "13   171    2495   41.0  151.902302  154.288202      174  11.0   0.0   8.0   \n",
       "\n",
       "    statprod  \n",
       "23   4171749  \n",
       "30   4159403  \n",
       "26   4146083  \n",
       "15   4127189  \n",
       "4    4112363  \n",
       "17   4110150  \n",
       "13   4077991  "
      ]
     },
     "metadata": {},
     "output_type": "display_data"
    },
    {
     "data": {
      "text/markdown": [
       "### Bulk Focus"
      ],
      "text/plain": [
       "<IPython.core.display.Markdown object>"
      ]
     },
     "metadata": {},
     "output_type": "display_data"
    },
    {
     "data": {
      "text/html": [
       "<div>\n",
       "<style scoped>\n",
       "    .dataframe tbody tr th:only-of-type {\n",
       "        vertical-align: middle;\n",
       "    }\n",
       "\n",
       "    .dataframe tbody tr th {\n",
       "        vertical-align: top;\n",
       "    }\n",
       "\n",
       "    .dataframe thead th {\n",
       "        text-align: right;\n",
       "    }\n",
       "</style>\n",
       "<table border=\"1\" class=\"dataframe\">\n",
       "  <thead>\n",
       "    <tr style=\"text-align: right;\">\n",
       "      <th></th>\n",
       "      <th>CP</th>\n",
       "      <th>max CP</th>\n",
       "      <th>level</th>\n",
       "      <th>attack</th>\n",
       "      <th>defense</th>\n",
       "      <th>stamina</th>\n",
       "      <th>a</th>\n",
       "      <th>d</th>\n",
       "      <th>s</th>\n",
       "      <th>statprod</th>\n",
       "    </tr>\n",
       "  </thead>\n",
       "  <tbody>\n",
       "  </tbody>\n",
       "</table>\n",
       "</div>"
      ],
      "text/plain": [
       "Empty DataFrame\n",
       "Columns: [CP, max CP, level, attack, defense, stamina, a, d, s, statprod]\n",
       "Index: []"
      ]
     },
     "metadata": {},
     "output_type": "display_data"
    }
   ],
   "source": [
    "pvprankings.display_rs_info(df,'Obstagoon')"
   ]
  },
  {
   "cell_type": "code",
   "execution_count": 6,
   "id": "14d5812e-d40c-4861-80ec-296583612deb",
   "metadata": {},
   "outputs": [
    {
     "data": {
      "text/markdown": [
       "# Chesnaughts you have, according to the Swag Man"
      ],
      "text/plain": [
       "<IPython.core.display.Markdown object>"
      ]
     },
     "metadata": {},
     "output_type": "display_data"
    },
    {
     "data": {
      "text/markdown": [
       "Check out the article [here](https://gamepress.gg/pokemongo/chesnaught-pvp-iv-deep-dive)!"
      ],
      "text/plain": [
       "<IPython.core.display.Markdown object>"
      ]
     },
     "metadata": {},
     "output_type": "display_data"
    },
    {
     "data": {
      "text/markdown": [
       "Check out the videos: [here]()!"
      ],
      "text/plain": [
       "<IPython.core.display.Markdown object>"
      ]
     },
     "metadata": {},
     "output_type": "display_data"
    },
    {
     "data": {
      "text/markdown": [
       "Extra Tips: \n",
       "The tables below feature the IV spreads that meet some of the more important stat checks highlighted in the article. It’s important to review the guide itself to make sure you’re getting what you want out of your Chesnaught. For example, you may want a slightly higher Def or HP weight for more consistency.\n",
       "        \n",
       "Bulk Focus (122.21 Def, 127 HP)\n",
       "\n",
       "    * 129 HP can potentially 1-0 Pelipper\n",
       "    * The Rank 1 can 0-1 some low Atk Galarian Stunfisk with only Frenzy Plant\n",
       "    * ~119.35 Atk can 0-1 & 1-1 Scrafty more consistently\n",
       "\n",
       "Froslass Slayer (121.89 Atk, 117.7 Def, 125 HP)\n",
       "\n",
       "    * Generally Def>Atk=HP\n",
       "\n",
       "Froslass Slayer, Def focus (121.89 Atk, 122.21 Def, 122 HP)\n",
       "\n",
       "    * The 6/3/5 is also viable, but pushes it\n",
       "\n",
       "\n"
      ],
      "text/plain": [
       "<IPython.core.display.Markdown object>"
      ]
     },
     "metadata": {},
     "output_type": "display_data"
    },
    {
     "data": {
      "text/markdown": [
       "## Great League"
      ],
      "text/plain": [
       "<IPython.core.display.Markdown object>"
      ]
     },
     "metadata": {},
     "output_type": "display_data"
    },
    {
     "data": {
      "text/markdown": [
       "### Bulk focus 122.21 def, 127 hp"
      ],
      "text/plain": [
       "<IPython.core.display.Markdown object>"
      ]
     },
     "metadata": {},
     "output_type": "display_data"
    },
    {
     "data": {
      "text/html": [
       "<div>\n",
       "<style scoped>\n",
       "    .dataframe tbody tr th:only-of-type {\n",
       "        vertical-align: middle;\n",
       "    }\n",
       "\n",
       "    .dataframe tbody tr th {\n",
       "        vertical-align: top;\n",
       "    }\n",
       "\n",
       "    .dataframe thead th {\n",
       "        text-align: right;\n",
       "    }\n",
       "</style>\n",
       "<table border=\"1\" class=\"dataframe\">\n",
       "  <thead>\n",
       "    <tr style=\"text-align: right;\">\n",
       "      <th></th>\n",
       "      <th>CP</th>\n",
       "      <th>max CP</th>\n",
       "      <th>level</th>\n",
       "      <th>attack</th>\n",
       "      <th>defense</th>\n",
       "      <th>stamina</th>\n",
       "      <th>a</th>\n",
       "      <th>d</th>\n",
       "      <th>s</th>\n",
       "      <th>statprod</th>\n",
       "    </tr>\n",
       "  </thead>\n",
       "  <tbody>\n",
       "    <tr>\n",
       "      <th>91</th>\n",
       "      <td>13</td>\n",
       "      <td>1492</td>\n",
       "      <td>19.5</td>\n",
       "      <td>118.567469</td>\n",
       "      <td>123.286573</td>\n",
       "      <td>128</td>\n",
       "      <td>0.0</td>\n",
       "      <td>5.0</td>\n",
       "      <td>14.0</td>\n",
       "      <td>1871075</td>\n",
       "    </tr>\n",
       "  </tbody>\n",
       "</table>\n",
       "</div>"
      ],
      "text/plain": [
       "    CP  max CP  level      attack     defense  stamina    a    d     s  \\\n",
       "91  13    1492   19.5  118.567469  123.286573      128  0.0  5.0  14.0   \n",
       "\n",
       "    statprod  \n",
       "91   1871075  "
      ]
     },
     "metadata": {},
     "output_type": "display_data"
    },
    {
     "data": {
      "text/markdown": [
       "### frosslass slayer 121.89 atk, 117.7 def, 125 hp"
      ],
      "text/plain": [
       "<IPython.core.display.Markdown object>"
      ]
     },
     "metadata": {},
     "output_type": "display_data"
    },
    {
     "data": {
      "text/html": [
       "<div>\n",
       "<style scoped>\n",
       "    .dataframe tbody tr th:only-of-type {\n",
       "        vertical-align: middle;\n",
       "    }\n",
       "\n",
       "    .dataframe tbody tr th {\n",
       "        vertical-align: top;\n",
       "    }\n",
       "\n",
       "    .dataframe thead th {\n",
       "        text-align: right;\n",
       "    }\n",
       "</style>\n",
       "<table border=\"1\" class=\"dataframe\">\n",
       "  <thead>\n",
       "    <tr style=\"text-align: right;\">\n",
       "      <th></th>\n",
       "      <th>CP</th>\n",
       "      <th>max CP</th>\n",
       "      <th>level</th>\n",
       "      <th>attack</th>\n",
       "      <th>defense</th>\n",
       "      <th>stamina</th>\n",
       "      <th>a</th>\n",
       "      <th>d</th>\n",
       "      <th>s</th>\n",
       "      <th>statprod</th>\n",
       "    </tr>\n",
       "  </thead>\n",
       "  <tbody>\n",
       "    <tr>\n",
       "      <th>4</th>\n",
       "      <td>14</td>\n",
       "      <td>1497</td>\n",
       "      <td>18.5</td>\n",
       "      <td>122.383225</td>\n",
       "      <td>118.935811</td>\n",
       "      <td>125</td>\n",
       "      <td>12.0</td>\n",
       "      <td>3.0</td>\n",
       "      <td>15.0</td>\n",
       "      <td>1819468</td>\n",
       "    </tr>\n",
       "  </tbody>\n",
       "</table>\n",
       "</div>"
      ],
      "text/plain": [
       "   CP  max CP  level      attack     defense  stamina     a    d     s  \\\n",
       "4  14    1497   18.5  122.383225  118.935811      125  12.0  3.0  15.0   \n",
       "\n",
       "   statprod  \n",
       "4   1819468  "
      ]
     },
     "metadata": {},
     "output_type": "display_data"
    },
    {
     "data": {
      "text/markdown": [
       "### frosslass slayer, def focus (121.89 atk, 122.21 eef, 122 hp"
      ],
      "text/plain": [
       "<IPython.core.display.Markdown object>"
      ]
     },
     "metadata": {},
     "output_type": "display_data"
    },
    {
     "data": {
      "text/html": [
       "<div>\n",
       "<style scoped>\n",
       "    .dataframe tbody tr th:only-of-type {\n",
       "        vertical-align: middle;\n",
       "    }\n",
       "\n",
       "    .dataframe tbody tr th {\n",
       "        vertical-align: top;\n",
       "    }\n",
       "\n",
       "    .dataframe thead th {\n",
       "        text-align: right;\n",
       "    }\n",
       "</style>\n",
       "<table border=\"1\" class=\"dataframe\">\n",
       "  <thead>\n",
       "    <tr style=\"text-align: right;\">\n",
       "      <th></th>\n",
       "      <th>CP</th>\n",
       "      <th>max CP</th>\n",
       "      <th>level</th>\n",
       "      <th>attack</th>\n",
       "      <th>defense</th>\n",
       "      <th>stamina</th>\n",
       "      <th>a</th>\n",
       "      <th>d</th>\n",
       "      <th>s</th>\n",
       "      <th>statprod</th>\n",
       "    </tr>\n",
       "  </thead>\n",
       "  <tbody>\n",
       "  </tbody>\n",
       "</table>\n",
       "</div>"
      ],
      "text/plain": [
       "Empty DataFrame\n",
       "Columns: [CP, max CP, level, attack, defense, stamina, a, d, s, statprod]\n",
       "Index: []"
      ]
     },
     "metadata": {},
     "output_type": "display_data"
    },
    {
     "data": {
      "text/markdown": [
       "## Ultra League"
      ],
      "text/plain": [
       "<IPython.core.display.Markdown object>"
      ]
     },
     "metadata": {},
     "output_type": "display_data"
    }
   ],
   "source": [
    "pvprankings.display_rs_info(df,'Chesnaught')"
   ]
  },
  {
   "cell_type": "code",
   "execution_count": 4,
   "id": "0d77ecc9-b884-410c-ac14-a36f35c204c5",
   "metadata": {},
   "outputs": [
    {
     "data": {
      "text/markdown": [
       "# Venusaurs you have, according to the Swag Man"
      ],
      "text/plain": [
       "<IPython.core.display.Markdown object>"
      ]
     },
     "metadata": {},
     "output_type": "display_data"
    },
    {
     "data": {
      "text/markdown": [
       "Check out the article [here](https://gamepress.gg/pokemongo/venusaur-pvp-iv-deep-dive)!"
      ],
      "text/plain": [
       "<IPython.core.display.Markdown object>"
      ]
     },
     "metadata": {},
     "output_type": "display_data"
    },
    {
     "data": {
      "text/markdown": [
       "## Great League"
      ],
      "text/plain": [
       "<IPython.core.display.Markdown object>"
      ]
     },
     "metadata": {},
     "output_type": "display_data"
    },
    {
     "data": {
      "text/markdown": [
       "### Froslass Slayer + OK Def"
      ],
      "text/plain": [
       "<IPython.core.display.Markdown object>"
      ]
     },
     "metadata": {},
     "output_type": "display_data"
    },
    {
     "data": {
      "text/html": [
       "<div>\n",
       "<style scoped>\n",
       "    .dataframe tbody tr th:only-of-type {\n",
       "        vertical-align: middle;\n",
       "    }\n",
       "\n",
       "    .dataframe tbody tr th {\n",
       "        vertical-align: top;\n",
       "    }\n",
       "\n",
       "    .dataframe thead th {\n",
       "        text-align: right;\n",
       "    }\n",
       "</style>\n",
       "<table border=\"1\" class=\"dataframe\">\n",
       "  <thead>\n",
       "    <tr style=\"text-align: right;\">\n",
       "      <th></th>\n",
       "      <th>CP</th>\n",
       "      <th>max CP</th>\n",
       "      <th>level</th>\n",
       "      <th>attack</th>\n",
       "      <th>defense</th>\n",
       "      <th>stamina</th>\n",
       "      <th>a</th>\n",
       "      <th>d</th>\n",
       "      <th>s</th>\n",
       "      <th>statprod</th>\n",
       "    </tr>\n",
       "  </thead>\n",
       "  <tbody>\n",
       "    <tr>\n",
       "      <th>20</th>\n",
       "      <td>570</td>\n",
       "      <td>1488</td>\n",
       "      <td>20.5</td>\n",
       "      <td>123.384028</td>\n",
       "      <td>118.545438</td>\n",
       "      <td>122</td>\n",
       "      <td>6.0</td>\n",
       "      <td>7.0</td>\n",
       "      <td>13.0</td>\n",
       "      <td>1784446</td>\n",
       "    </tr>\n",
       "  </tbody>\n",
       "</table>\n",
       "</div>"
      ],
      "text/plain": [
       "     CP  max CP  level      attack     defense  stamina    a    d     s  \\\n",
       "20  570    1488   20.5  123.384028  118.545438      122  6.0  7.0  13.0   \n",
       "\n",
       "    statprod  \n",
       "20   1784446  "
      ]
     },
     "metadata": {},
     "output_type": "display_data"
    },
    {
     "data": {
      "text/markdown": [
       "### Froslass Slayer + Big Def"
      ],
      "text/plain": [
       "<IPython.core.display.Markdown object>"
      ]
     },
     "metadata": {},
     "output_type": "display_data"
    },
    {
     "data": {
      "text/html": [
       "<div>\n",
       "<style scoped>\n",
       "    .dataframe tbody tr th:only-of-type {\n",
       "        vertical-align: middle;\n",
       "    }\n",
       "\n",
       "    .dataframe tbody tr th {\n",
       "        vertical-align: top;\n",
       "    }\n",
       "\n",
       "    .dataframe thead th {\n",
       "        text-align: right;\n",
       "    }\n",
       "</style>\n",
       "<table border=\"1\" class=\"dataframe\">\n",
       "  <thead>\n",
       "    <tr style=\"text-align: right;\">\n",
       "      <th></th>\n",
       "      <th>CP</th>\n",
       "      <th>max CP</th>\n",
       "      <th>level</th>\n",
       "      <th>attack</th>\n",
       "      <th>defense</th>\n",
       "      <th>stamina</th>\n",
       "      <th>a</th>\n",
       "      <th>d</th>\n",
       "      <th>s</th>\n",
       "      <th>statprod</th>\n",
       "    </tr>\n",
       "  </thead>\n",
       "  <tbody>\n",
       "  </tbody>\n",
       "</table>\n",
       "</div>"
      ],
      "text/plain": [
       "Empty DataFrame\n",
       "Columns: [CP, max CP, level, attack, defense, stamina, a, d, s, statprod]\n",
       "Index: []"
      ]
     },
     "metadata": {},
     "output_type": "display_data"
    },
    {
     "data": {
      "text/markdown": [
       "### Big Bulk"
      ],
      "text/plain": [
       "<IPython.core.display.Markdown object>"
      ]
     },
     "metadata": {},
     "output_type": "display_data"
    },
    {
     "data": {
      "text/html": [
       "<div>\n",
       "<style scoped>\n",
       "    .dataframe tbody tr th:only-of-type {\n",
       "        vertical-align: middle;\n",
       "    }\n",
       "\n",
       "    .dataframe tbody tr th {\n",
       "        vertical-align: top;\n",
       "    }\n",
       "\n",
       "    .dataframe thead th {\n",
       "        text-align: right;\n",
       "    }\n",
       "</style>\n",
       "<table border=\"1\" class=\"dataframe\">\n",
       "  <thead>\n",
       "    <tr style=\"text-align: right;\">\n",
       "      <th></th>\n",
       "      <th>CP</th>\n",
       "      <th>max CP</th>\n",
       "      <th>level</th>\n",
       "      <th>attack</th>\n",
       "      <th>defense</th>\n",
       "      <th>stamina</th>\n",
       "      <th>a</th>\n",
       "      <th>d</th>\n",
       "      <th>s</th>\n",
       "      <th>statprod</th>\n",
       "    </tr>\n",
       "  </thead>\n",
       "  <tbody>\n",
       "  </tbody>\n",
       "</table>\n",
       "</div>"
      ],
      "text/plain": [
       "Empty DataFrame\n",
       "Columns: [CP, max CP, level, attack, defense, stamina, a, d, s, statprod]\n",
       "Index: []"
      ]
     },
     "metadata": {},
     "output_type": "display_data"
    },
    {
     "data": {
      "text/markdown": [
       "### Shadow big bulk"
      ],
      "text/plain": [
       "<IPython.core.display.Markdown object>"
      ]
     },
     "metadata": {},
     "output_type": "display_data"
    },
    {
     "data": {
      "text/html": [
       "<div>\n",
       "<style scoped>\n",
       "    .dataframe tbody tr th:only-of-type {\n",
       "        vertical-align: middle;\n",
       "    }\n",
       "\n",
       "    .dataframe tbody tr th {\n",
       "        vertical-align: top;\n",
       "    }\n",
       "\n",
       "    .dataframe thead th {\n",
       "        text-align: right;\n",
       "    }\n",
       "</style>\n",
       "<table border=\"1\" class=\"dataframe\">\n",
       "  <thead>\n",
       "    <tr style=\"text-align: right;\">\n",
       "      <th></th>\n",
       "      <th>CP</th>\n",
       "      <th>max CP</th>\n",
       "      <th>level</th>\n",
       "      <th>attack</th>\n",
       "      <th>defense</th>\n",
       "      <th>stamina</th>\n",
       "      <th>a</th>\n",
       "      <th>d</th>\n",
       "      <th>s</th>\n",
       "      <th>statprod</th>\n",
       "    </tr>\n",
       "  </thead>\n",
       "  <tbody>\n",
       "  </tbody>\n",
       "</table>\n",
       "</div>"
      ],
      "text/plain": [
       "Empty DataFrame\n",
       "Columns: [CP, max CP, level, attack, defense, stamina, a, d, s, statprod]\n",
       "Index: []"
      ]
     },
     "metadata": {},
     "output_type": "display_data"
    },
    {
     "data": {
      "text/markdown": [
       "## Ultra League"
      ],
      "text/plain": [
       "<IPython.core.display.Markdown object>"
      ]
     },
     "metadata": {},
     "output_type": "display_data"
    },
    {
     "data": {
      "text/markdown": [
       "### Galar Stunfisk Slayer"
      ],
      "text/plain": [
       "<IPython.core.display.Markdown object>"
      ]
     },
     "metadata": {},
     "output_type": "display_data"
    },
    {
     "data": {
      "text/html": [
       "<div>\n",
       "<style scoped>\n",
       "    .dataframe tbody tr th:only-of-type {\n",
       "        vertical-align: middle;\n",
       "    }\n",
       "\n",
       "    .dataframe tbody tr th {\n",
       "        vertical-align: top;\n",
       "    }\n",
       "\n",
       "    .dataframe thead th {\n",
       "        text-align: right;\n",
       "    }\n",
       "</style>\n",
       "<table border=\"1\" class=\"dataframe\">\n",
       "  <thead>\n",
       "    <tr style=\"text-align: right;\">\n",
       "      <th></th>\n",
       "      <th>CP</th>\n",
       "      <th>max CP</th>\n",
       "      <th>level</th>\n",
       "      <th>attack</th>\n",
       "      <th>defense</th>\n",
       "      <th>stamina</th>\n",
       "      <th>a</th>\n",
       "      <th>d</th>\n",
       "      <th>s</th>\n",
       "      <th>statprod</th>\n",
       "    </tr>\n",
       "  </thead>\n",
       "  <tbody>\n",
       "    <tr>\n",
       "      <th>10</th>\n",
       "      <td>208</td>\n",
       "      <td>2494</td>\n",
       "      <td>42.5</td>\n",
       "      <td>159.757199</td>\n",
       "      <td>158.151599</td>\n",
       "      <td>154</td>\n",
       "      <td>1.0</td>\n",
       "      <td>8.0</td>\n",
       "      <td>2.0</td>\n",
       "      <td>3890941</td>\n",
       "    </tr>\n",
       "    <tr>\n",
       "      <th>23</th>\n",
       "      <td>934</td>\n",
       "      <td>2498</td>\n",
       "      <td>39.5</td>\n",
       "      <td>160.644616</td>\n",
       "      <td>158.282195</td>\n",
       "      <td>152</td>\n",
       "      <td>6.0</td>\n",
       "      <td>12.0</td>\n",
       "      <td>4.0</td>\n",
       "      <td>3864931</td>\n",
       "    </tr>\n",
       "    <tr>\n",
       "      <th>11</th>\n",
       "      <td>203</td>\n",
       "      <td>2486</td>\n",
       "      <td>43.5</td>\n",
       "      <td>159.944400</td>\n",
       "      <td>157.521000</td>\n",
       "      <td>153</td>\n",
       "      <td>0.0</td>\n",
       "      <td>6.0</td>\n",
       "      <td>0.0</td>\n",
       "      <td>3854774</td>\n",
       "    </tr>\n",
       "  </tbody>\n",
       "</table>\n",
       "</div>"
      ],
      "text/plain": [
       "     CP  max CP  level      attack     defense  stamina    a     d    s  \\\n",
       "10  208    2494   42.5  159.757199  158.151599      154  1.0   8.0  2.0   \n",
       "23  934    2498   39.5  160.644616  158.282195      152  6.0  12.0  4.0   \n",
       "11  203    2486   43.5  159.944400  157.521000      153  0.0   6.0  0.0   \n",
       "\n",
       "    statprod  \n",
       "10   3890941  \n",
       "23   3864931  \n",
       "11   3854774  "
      ]
     },
     "metadata": {},
     "output_type": "display_data"
    },
    {
     "data": {
      "text/markdown": [
       "### Huge Defense"
      ],
      "text/plain": [
       "<IPython.core.display.Markdown object>"
      ]
     },
     "metadata": {},
     "output_type": "display_data"
    },
    {
     "data": {
      "text/html": [
       "<div>\n",
       "<style scoped>\n",
       "    .dataframe tbody tr th:only-of-type {\n",
       "        vertical-align: middle;\n",
       "    }\n",
       "\n",
       "    .dataframe tbody tr th {\n",
       "        vertical-align: top;\n",
       "    }\n",
       "\n",
       "    .dataframe thead th {\n",
       "        text-align: right;\n",
       "    }\n",
       "</style>\n",
       "<table border=\"1\" class=\"dataframe\">\n",
       "  <thead>\n",
       "    <tr style=\"text-align: right;\">\n",
       "      <th></th>\n",
       "      <th>CP</th>\n",
       "      <th>max CP</th>\n",
       "      <th>level</th>\n",
       "      <th>attack</th>\n",
       "      <th>defense</th>\n",
       "      <th>stamina</th>\n",
       "      <th>a</th>\n",
       "      <th>d</th>\n",
       "      <th>s</th>\n",
       "      <th>statprod</th>\n",
       "    </tr>\n",
       "  </thead>\n",
       "  <tbody>\n",
       "  </tbody>\n",
       "</table>\n",
       "</div>"
      ],
      "text/plain": [
       "Empty DataFrame\n",
       "Columns: [CP, max CP, level, attack, defense, stamina, a, d, s, statprod]\n",
       "Index: []"
      ]
     },
     "metadata": {},
     "output_type": "display_data"
    },
    {
     "data": {
      "text/markdown": [
       "### As good as Rank 1 Bulk"
      ],
      "text/plain": [
       "<IPython.core.display.Markdown object>"
      ]
     },
     "metadata": {},
     "output_type": "display_data"
    },
    {
     "data": {
      "text/html": [
       "<div>\n",
       "<style scoped>\n",
       "    .dataframe tbody tr th:only-of-type {\n",
       "        vertical-align: middle;\n",
       "    }\n",
       "\n",
       "    .dataframe tbody tr th {\n",
       "        vertical-align: top;\n",
       "    }\n",
       "\n",
       "    .dataframe thead th {\n",
       "        text-align: right;\n",
       "    }\n",
       "</style>\n",
       "<table border=\"1\" class=\"dataframe\">\n",
       "  <thead>\n",
       "    <tr style=\"text-align: right;\">\n",
       "      <th></th>\n",
       "      <th>CP</th>\n",
       "      <th>max CP</th>\n",
       "      <th>level</th>\n",
       "      <th>attack</th>\n",
       "      <th>defense</th>\n",
       "      <th>stamina</th>\n",
       "      <th>a</th>\n",
       "      <th>d</th>\n",
       "      <th>s</th>\n",
       "      <th>statprod</th>\n",
       "    </tr>\n",
       "  </thead>\n",
       "  <tbody>\n",
       "  </tbody>\n",
       "</table>\n",
       "</div>"
      ],
      "text/plain": [
       "Empty DataFrame\n",
       "Columns: [CP, max CP, level, attack, defense, stamina, a, d, s, statprod]\n",
       "Index: []"
      ]
     },
     "metadata": {},
     "output_type": "display_data"
    },
    {
     "data": {
      "text/markdown": [
       "### Shadow General Blend"
      ],
      "text/plain": [
       "<IPython.core.display.Markdown object>"
      ]
     },
     "metadata": {},
     "output_type": "display_data"
    },
    {
     "data": {
      "text/html": [
       "<div>\n",
       "<style scoped>\n",
       "    .dataframe tbody tr th:only-of-type {\n",
       "        vertical-align: middle;\n",
       "    }\n",
       "\n",
       "    .dataframe tbody tr th {\n",
       "        vertical-align: top;\n",
       "    }\n",
       "\n",
       "    .dataframe thead th {\n",
       "        text-align: right;\n",
       "    }\n",
       "</style>\n",
       "<table border=\"1\" class=\"dataframe\">\n",
       "  <thead>\n",
       "    <tr style=\"text-align: right;\">\n",
       "      <th></th>\n",
       "      <th>CP</th>\n",
       "      <th>max CP</th>\n",
       "      <th>level</th>\n",
       "      <th>attack</th>\n",
       "      <th>defense</th>\n",
       "      <th>stamina</th>\n",
       "      <th>a</th>\n",
       "      <th>d</th>\n",
       "      <th>s</th>\n",
       "      <th>statprod</th>\n",
       "    </tr>\n",
       "  </thead>\n",
       "  <tbody>\n",
       "  </tbody>\n",
       "</table>\n",
       "</div>"
      ],
      "text/plain": [
       "Empty DataFrame\n",
       "Columns: [CP, max CP, level, attack, defense, stamina, a, d, s, statprod]\n",
       "Index: []"
      ]
     },
     "metadata": {},
     "output_type": "display_data"
    }
   ],
   "source": [
    "pvprankings.display_rs_info(df,'Venusaur')"
   ]
  },
  {
   "cell_type": "code",
   "execution_count": 5,
   "id": "5ce6771c-9d0c-4203-91b1-4abb71e23e38",
   "metadata": {},
   "outputs": [
    {
     "data": {
      "text/markdown": [
       "# Swamperts you have, according to the Swag Man"
      ],
      "text/plain": [
       "<IPython.core.display.Markdown object>"
      ]
     },
     "metadata": {},
     "output_type": "display_data"
    },
    {
     "data": {
      "text/markdown": [
       "Check out the article [here]()!"
      ],
      "text/plain": [
       "<IPython.core.display.Markdown object>"
      ]
     },
     "metadata": {},
     "output_type": "display_data"
    },
    {
     "data": {
      "text/markdown": [
       "Check out the videos: [here]()!"
      ],
      "text/plain": [
       "<IPython.core.display.Markdown object>"
      ]
     },
     "metadata": {},
     "output_type": "display_data"
    },
    {
     "data": {
      "text/markdown": [
       "Extra Tips: No good deep dive"
      ],
      "text/plain": [
       "<IPython.core.display.Markdown object>"
      ]
     },
     "metadata": {},
     "output_type": "display_data"
    },
    {
     "data": {
      "text/markdown": [
       "## Great League"
      ],
      "text/plain": [
       "<IPython.core.display.Markdown object>"
      ]
     },
     "metadata": {},
     "output_type": "display_data"
    },
    {
     "data": {
      "text/markdown": [
       "### Def"
      ],
      "text/plain": [
       "<IPython.core.display.Markdown object>"
      ]
     },
     "metadata": {},
     "output_type": "display_data"
    },
    {
     "data": {
      "text/html": [
       "<div>\n",
       "<style scoped>\n",
       "    .dataframe tbody tr th:only-of-type {\n",
       "        vertical-align: middle;\n",
       "    }\n",
       "\n",
       "    .dataframe tbody tr th {\n",
       "        vertical-align: top;\n",
       "    }\n",
       "\n",
       "    .dataframe thead th {\n",
       "        text-align: right;\n",
       "    }\n",
       "</style>\n",
       "<table border=\"1\" class=\"dataframe\">\n",
       "  <thead>\n",
       "    <tr style=\"text-align: right;\">\n",
       "      <th></th>\n",
       "      <th>CP</th>\n",
       "      <th>max CP</th>\n",
       "      <th>level</th>\n",
       "      <th>attack</th>\n",
       "      <th>defense</th>\n",
       "      <th>stamina</th>\n",
       "      <th>a</th>\n",
       "      <th>d</th>\n",
       "      <th>s</th>\n",
       "      <th>statprod</th>\n",
       "    </tr>\n",
       "  </thead>\n",
       "  <tbody>\n",
       "    <tr>\n",
       "      <th>27</th>\n",
       "      <td>44</td>\n",
       "      <td>1496</td>\n",
       "      <td>19.0</td>\n",
       "      <td>124.025406</td>\n",
       "      <td>110.632991</td>\n",
       "      <td>131</td>\n",
       "      <td>5.0</td>\n",
       "      <td>15.0</td>\n",
       "      <td>1.0</td>\n",
       "      <td>1797490</td>\n",
       "    </tr>\n",
       "  </tbody>\n",
       "</table>\n",
       "</div>"
      ],
      "text/plain": [
       "    CP  max CP  level      attack     defense  stamina    a     d    s  \\\n",
       "27  44    1496   19.0  124.025406  110.632991      131  5.0  15.0  1.0   \n",
       "\n",
       "    statprod  \n",
       "27   1797490  "
      ]
     },
     "metadata": {},
     "output_type": "display_data"
    },
    {
     "data": {
      "text/markdown": [
       "### Atk"
      ],
      "text/plain": [
       "<IPython.core.display.Markdown object>"
      ]
     },
     "metadata": {},
     "output_type": "display_data"
    },
    {
     "data": {
      "text/html": [
       "<div>\n",
       "<style scoped>\n",
       "    .dataframe tbody tr th:only-of-type {\n",
       "        vertical-align: middle;\n",
       "    }\n",
       "\n",
       "    .dataframe tbody tr th {\n",
       "        vertical-align: top;\n",
       "    }\n",
       "\n",
       "    .dataframe thead th {\n",
       "        text-align: right;\n",
       "    }\n",
       "</style>\n",
       "<table border=\"1\" class=\"dataframe\">\n",
       "  <thead>\n",
       "    <tr style=\"text-align: right;\">\n",
       "      <th></th>\n",
       "      <th>CP</th>\n",
       "      <th>max CP</th>\n",
       "      <th>level</th>\n",
       "      <th>attack</th>\n",
       "      <th>defense</th>\n",
       "      <th>stamina</th>\n",
       "      <th>a</th>\n",
       "      <th>d</th>\n",
       "      <th>s</th>\n",
       "      <th>statprod</th>\n",
       "    </tr>\n",
       "  </thead>\n",
       "  <tbody>\n",
       "    <tr>\n",
       "      <th>15</th>\n",
       "      <td>255</td>\n",
       "      <td>1498</td>\n",
       "      <td>19.0</td>\n",
       "      <td>121.696290</td>\n",
       "      <td>108.886154</td>\n",
       "      <td>139</td>\n",
       "      <td>1.0</td>\n",
       "      <td>12.0</td>\n",
       "      <td>14.0</td>\n",
       "      <td>1841894</td>\n",
       "    </tr>\n",
       "    <tr>\n",
       "      <th>65</th>\n",
       "      <td>398</td>\n",
       "      <td>1497</td>\n",
       "      <td>19.0</td>\n",
       "      <td>121.696290</td>\n",
       "      <td>108.303875</td>\n",
       "      <td>139</td>\n",
       "      <td>1.0</td>\n",
       "      <td>11.0</td>\n",
       "      <td>15.0</td>\n",
       "      <td>1832044</td>\n",
       "    </tr>\n",
       "    <tr>\n",
       "      <th>17</th>\n",
       "      <td>396</td>\n",
       "      <td>1491</td>\n",
       "      <td>19.0</td>\n",
       "      <td>121.696290</td>\n",
       "      <td>108.886154</td>\n",
       "      <td>138</td>\n",
       "      <td>1.0</td>\n",
       "      <td>12.0</td>\n",
       "      <td>12.0</td>\n",
       "      <td>1828643</td>\n",
       "    </tr>\n",
       "    <tr>\n",
       "      <th>78</th>\n",
       "      <td>253</td>\n",
       "      <td>1491</td>\n",
       "      <td>19.0</td>\n",
       "      <td>121.696290</td>\n",
       "      <td>108.886154</td>\n",
       "      <td>138</td>\n",
       "      <td>1.0</td>\n",
       "      <td>12.0</td>\n",
       "      <td>12.0</td>\n",
       "      <td>1828643</td>\n",
       "    </tr>\n",
       "    <tr>\n",
       "      <th>114</th>\n",
       "      <td>763</td>\n",
       "      <td>1499</td>\n",
       "      <td>18.5</td>\n",
       "      <td>122.957795</td>\n",
       "      <td>109.168135</td>\n",
       "      <td>136</td>\n",
       "      <td>6.0</td>\n",
       "      <td>15.0</td>\n",
       "      <td>12.0</td>\n",
       "      <td>1825537</td>\n",
       "    </tr>\n",
       "    <tr>\n",
       "      <th>13</th>\n",
       "      <td>215</td>\n",
       "      <td>1496</td>\n",
       "      <td>19.5</td>\n",
       "      <td>122.696685</td>\n",
       "      <td>109.129263</td>\n",
       "      <td>136</td>\n",
       "      <td>0.0</td>\n",
       "      <td>10.0</td>\n",
       "      <td>6.0</td>\n",
       "      <td>1821012</td>\n",
       "    </tr>\n",
       "    <tr>\n",
       "      <th>88</th>\n",
       "      <td>158</td>\n",
       "      <td>1500</td>\n",
       "      <td>19.5</td>\n",
       "      <td>123.286573</td>\n",
       "      <td>109.129263</td>\n",
       "      <td>135</td>\n",
       "      <td>1.0</td>\n",
       "      <td>10.0</td>\n",
       "      <td>5.0</td>\n",
       "      <td>1816313</td>\n",
       "    </tr>\n",
       "    <tr>\n",
       "      <th>83</th>\n",
       "      <td>222</td>\n",
       "      <td>1486</td>\n",
       "      <td>19.0</td>\n",
       "      <td>122.278569</td>\n",
       "      <td>109.468433</td>\n",
       "      <td>135</td>\n",
       "      <td>2.0</td>\n",
       "      <td>13.0</td>\n",
       "      <td>7.0</td>\n",
       "      <td>1807061</td>\n",
       "    </tr>\n",
       "    <tr>\n",
       "      <th>118</th>\n",
       "      <td>1486</td>\n",
       "      <td>1486</td>\n",
       "      <td>19.0</td>\n",
       "      <td>122.278569</td>\n",
       "      <td>109.468433</td>\n",
       "      <td>135</td>\n",
       "      <td>2.0</td>\n",
       "      <td>13.0</td>\n",
       "      <td>7.0</td>\n",
       "      <td>1807061</td>\n",
       "    </tr>\n",
       "    <tr>\n",
       "      <th>86</th>\n",
       "      <td>194</td>\n",
       "      <td>1496</td>\n",
       "      <td>19.0</td>\n",
       "      <td>124.025406</td>\n",
       "      <td>108.303875</td>\n",
       "      <td>134</td>\n",
       "      <td>5.0</td>\n",
       "      <td>11.0</td>\n",
       "      <td>6.0</td>\n",
       "      <td>1799945</td>\n",
       "    </tr>\n",
       "    <tr>\n",
       "      <th>27</th>\n",
       "      <td>44</td>\n",
       "      <td>1496</td>\n",
       "      <td>19.0</td>\n",
       "      <td>124.025406</td>\n",
       "      <td>110.632991</td>\n",
       "      <td>131</td>\n",
       "      <td>5.0</td>\n",
       "      <td>15.0</td>\n",
       "      <td>1.0</td>\n",
       "      <td>1797490</td>\n",
       "    </tr>\n",
       "    <tr>\n",
       "      <th>119</th>\n",
       "      <td>1044</td>\n",
       "      <td>1486</td>\n",
       "      <td>18.5</td>\n",
       "      <td>124.106933</td>\n",
       "      <td>108.593566</td>\n",
       "      <td>132</td>\n",
       "      <td>8.0</td>\n",
       "      <td>14.0</td>\n",
       "      <td>5.0</td>\n",
       "      <td>1778992</td>\n",
       "    </tr>\n",
       "    <tr>\n",
       "      <th>115</th>\n",
       "      <td>613</td>\n",
       "      <td>1486</td>\n",
       "      <td>18.5</td>\n",
       "      <td>124.106933</td>\n",
       "      <td>108.593566</td>\n",
       "      <td>132</td>\n",
       "      <td>8.0</td>\n",
       "      <td>14.0</td>\n",
       "      <td>5.0</td>\n",
       "      <td>1778992</td>\n",
       "    </tr>\n",
       "    <tr>\n",
       "      <th>5</th>\n",
       "      <td>220</td>\n",
       "      <td>1477</td>\n",
       "      <td>19.0</td>\n",
       "      <td>124.025406</td>\n",
       "      <td>108.303875</td>\n",
       "      <td>131</td>\n",
       "      <td>5.0</td>\n",
       "      <td>11.0</td>\n",
       "      <td>0.0</td>\n",
       "      <td>1759648</td>\n",
       "    </tr>\n",
       "    <tr>\n",
       "      <th>66</th>\n",
       "      <td>386</td>\n",
       "      <td>1466</td>\n",
       "      <td>19.0</td>\n",
       "      <td>122.278569</td>\n",
       "      <td>108.886154</td>\n",
       "      <td>132</td>\n",
       "      <td>2.0</td>\n",
       "      <td>12.0</td>\n",
       "      <td>2.0</td>\n",
       "      <td>1757506</td>\n",
       "    </tr>\n",
       "    <tr>\n",
       "      <th>71</th>\n",
       "      <td>330</td>\n",
       "      <td>1464</td>\n",
       "      <td>19.0</td>\n",
       "      <td>122.278569</td>\n",
       "      <td>109.468433</td>\n",
       "      <td>131</td>\n",
       "      <td>2.0</td>\n",
       "      <td>13.0</td>\n",
       "      <td>0.0</td>\n",
       "      <td>1753519</td>\n",
       "    </tr>\n",
       "    <tr>\n",
       "      <th>69</th>\n",
       "      <td>353</td>\n",
       "      <td>1486</td>\n",
       "      <td>18.5</td>\n",
       "      <td>125.830640</td>\n",
       "      <td>108.018997</td>\n",
       "      <td>129</td>\n",
       "      <td>11.0</td>\n",
       "      <td>13.0</td>\n",
       "      <td>0.0</td>\n",
       "      <td>1753380</td>\n",
       "    </tr>\n",
       "    <tr>\n",
       "      <th>56</th>\n",
       "      <td>464</td>\n",
       "      <td>1472</td>\n",
       "      <td>18.5</td>\n",
       "      <td>122.957795</td>\n",
       "      <td>108.018997</td>\n",
       "      <td>132</td>\n",
       "      <td>6.0</td>\n",
       "      <td>13.0</td>\n",
       "      <td>6.0</td>\n",
       "      <td>1753194</td>\n",
       "    </tr>\n",
       "    <tr>\n",
       "      <th>12</th>\n",
       "      <td>199</td>\n",
       "      <td>1479</td>\n",
       "      <td>18.5</td>\n",
       "      <td>124.681502</td>\n",
       "      <td>108.018997</td>\n",
       "      <td>130</td>\n",
       "      <td>9.0</td>\n",
       "      <td>13.0</td>\n",
       "      <td>2.0</td>\n",
       "      <td>1750836</td>\n",
       "    </tr>\n",
       "    <tr>\n",
       "      <th>59</th>\n",
       "      <td>435</td>\n",
       "      <td>1473</td>\n",
       "      <td>18.5</td>\n",
       "      <td>124.681502</td>\n",
       "      <td>108.018997</td>\n",
       "      <td>129</td>\n",
       "      <td>9.0</td>\n",
       "      <td>13.0</td>\n",
       "      <td>0.0</td>\n",
       "      <td>1737368</td>\n",
       "    </tr>\n",
       "  </tbody>\n",
       "</table>\n",
       "</div>"
      ],
      "text/plain": [
       "       CP  max CP  level      attack     defense  stamina     a     d     s  \\\n",
       "15    255    1498   19.0  121.696290  108.886154      139   1.0  12.0  14.0   \n",
       "65    398    1497   19.0  121.696290  108.303875      139   1.0  11.0  15.0   \n",
       "17    396    1491   19.0  121.696290  108.886154      138   1.0  12.0  12.0   \n",
       "78    253    1491   19.0  121.696290  108.886154      138   1.0  12.0  12.0   \n",
       "114   763    1499   18.5  122.957795  109.168135      136   6.0  15.0  12.0   \n",
       "13    215    1496   19.5  122.696685  109.129263      136   0.0  10.0   6.0   \n",
       "88    158    1500   19.5  123.286573  109.129263      135   1.0  10.0   5.0   \n",
       "83    222    1486   19.0  122.278569  109.468433      135   2.0  13.0   7.0   \n",
       "118  1486    1486   19.0  122.278569  109.468433      135   2.0  13.0   7.0   \n",
       "86    194    1496   19.0  124.025406  108.303875      134   5.0  11.0   6.0   \n",
       "27     44    1496   19.0  124.025406  110.632991      131   5.0  15.0   1.0   \n",
       "119  1044    1486   18.5  124.106933  108.593566      132   8.0  14.0   5.0   \n",
       "115   613    1486   18.5  124.106933  108.593566      132   8.0  14.0   5.0   \n",
       "5     220    1477   19.0  124.025406  108.303875      131   5.0  11.0   0.0   \n",
       "66    386    1466   19.0  122.278569  108.886154      132   2.0  12.0   2.0   \n",
       "71    330    1464   19.0  122.278569  109.468433      131   2.0  13.0   0.0   \n",
       "69    353    1486   18.5  125.830640  108.018997      129  11.0  13.0   0.0   \n",
       "56    464    1472   18.5  122.957795  108.018997      132   6.0  13.0   6.0   \n",
       "12    199    1479   18.5  124.681502  108.018997      130   9.0  13.0   2.0   \n",
       "59    435    1473   18.5  124.681502  108.018997      129   9.0  13.0   0.0   \n",
       "\n",
       "     statprod  \n",
       "15    1841894  \n",
       "65    1832044  \n",
       "17    1828643  \n",
       "78    1828643  \n",
       "114   1825537  \n",
       "13    1821012  \n",
       "88    1816313  \n",
       "83    1807061  \n",
       "118   1807061  \n",
       "86    1799945  \n",
       "27    1797490  \n",
       "119   1778992  \n",
       "115   1778992  \n",
       "5     1759648  \n",
       "66    1757506  \n",
       "71    1753519  \n",
       "69    1753380  \n",
       "56    1753194  \n",
       "12    1750836  \n",
       "59    1737368  "
      ]
     },
     "metadata": {},
     "output_type": "display_data"
    },
    {
     "data": {
      "text/markdown": [
       "## Ultra League"
      ],
      "text/plain": [
       "<IPython.core.display.Markdown object>"
      ]
     },
     "metadata": {},
     "output_type": "display_data"
    }
   ],
   "source": [
    "pvprankings.display_rs_info(df,'Swampert')"
   ]
  },
  {
   "cell_type": "code",
   "execution_count": 32,
   "id": "6742d736-85ef-47f7-92ee-35025ddc1b67",
   "metadata": {},
   "outputs": [
    {
     "data": {
      "text/markdown": [
       "# Linoone (Galarian)s you have, according to the Swag Man"
      ],
      "text/plain": [
       "<IPython.core.display.Markdown object>"
      ]
     },
     "metadata": {},
     "output_type": "display_data"
    },
    {
     "data": {
      "text/markdown": [
       "Check out the article [here](https://twitter.com/SwgTips/status/1558892455017185280)!"
      ],
      "text/plain": [
       "<IPython.core.display.Markdown object>"
      ]
     },
     "metadata": {},
     "output_type": "display_data"
    },
    {
     "data": {
      "text/markdown": [
       "Check out the videos: [here]()!"
      ],
      "text/plain": [
       "<IPython.core.display.Markdown object>"
      ]
     },
     "metadata": {},
     "output_type": "display_data"
    },
    {
     "data": {
      "text/markdown": [
       "Extra Tips: Still bad right now."
      ],
      "text/plain": [
       "<IPython.core.display.Markdown object>"
      ]
     },
     "metadata": {},
     "output_type": "display_data"
    },
    {
     "data": {
      "text/markdown": [
       "## Great League"
      ],
      "text/plain": [
       "<IPython.core.display.Markdown object>"
      ]
     },
     "metadata": {},
     "output_type": "display_data"
    },
    {
     "data": {
      "text/markdown": [
       "### Swamp/cash"
      ],
      "text/plain": [
       "<IPython.core.display.Markdown object>"
      ]
     },
     "metadata": {},
     "output_type": "display_data"
    },
    {
     "data": {
      "text/html": [
       "<div>\n",
       "<style scoped>\n",
       "    .dataframe tbody tr th:only-of-type {\n",
       "        vertical-align: middle;\n",
       "    }\n",
       "\n",
       "    .dataframe tbody tr th {\n",
       "        vertical-align: top;\n",
       "    }\n",
       "\n",
       "    .dataframe thead th {\n",
       "        text-align: right;\n",
       "    }\n",
       "</style>\n",
       "<table border=\"1\" class=\"dataframe\">\n",
       "  <thead>\n",
       "    <tr style=\"text-align: right;\">\n",
       "      <th></th>\n",
       "      <th>CP</th>\n",
       "      <th>max CP</th>\n",
       "      <th>level</th>\n",
       "      <th>attack</th>\n",
       "      <th>defense</th>\n",
       "      <th>stamina</th>\n",
       "      <th>a</th>\n",
       "      <th>d</th>\n",
       "      <th>s</th>\n",
       "      <th>statprod</th>\n",
       "    </tr>\n",
       "  </thead>\n",
       "  <tbody>\n",
       "    <tr>\n",
       "      <th>20</th>\n",
       "      <td>10</td>\n",
       "      <td>1492</td>\n",
       "      <td>41.0</td>\n",
       "      <td>112.932601</td>\n",
       "      <td>109.751401</td>\n",
       "      <td>159</td>\n",
       "      <td>0.0</td>\n",
       "      <td>10.0</td>\n",
       "      <td>14.0</td>\n",
       "      <td>1970727</td>\n",
       "    </tr>\n",
       "    <tr>\n",
       "      <th>5</th>\n",
       "      <td>284</td>\n",
       "      <td>1494</td>\n",
       "      <td>39.0</td>\n",
       "      <td>112.987728</td>\n",
       "      <td>111.418454</td>\n",
       "      <td>156</td>\n",
       "      <td>2.0</td>\n",
       "      <td>14.0</td>\n",
       "      <td>14.0</td>\n",
       "      <td>1963871</td>\n",
       "    </tr>\n",
       "    <tr>\n",
       "      <th>22</th>\n",
       "      <td>1083</td>\n",
       "      <td>1494</td>\n",
       "      <td>39.0</td>\n",
       "      <td>114.557002</td>\n",
       "      <td>109.064543</td>\n",
       "      <td>156</td>\n",
       "      <td>4.0</td>\n",
       "      <td>11.0</td>\n",
       "      <td>13.0</td>\n",
       "      <td>1949080</td>\n",
       "    </tr>\n",
       "    <tr>\n",
       "      <th>21</th>\n",
       "      <td>1327</td>\n",
       "      <td>1493</td>\n",
       "      <td>37.5</td>\n",
       "      <td>114.857614</td>\n",
       "      <td>109.425160</td>\n",
       "      <td>154</td>\n",
       "      <td>6.0</td>\n",
       "      <td>13.0</td>\n",
       "      <td>13.0</td>\n",
       "      <td>1935520</td>\n",
       "    </tr>\n",
       "    <tr>\n",
       "      <th>10</th>\n",
       "      <td>213</td>\n",
       "      <td>1493</td>\n",
       "      <td>39.5</td>\n",
       "      <td>114.971147</td>\n",
       "      <td>107.096411</td>\n",
       "      <td>157</td>\n",
       "      <td>4.0</td>\n",
       "      <td>8.0</td>\n",
       "      <td>14.0</td>\n",
       "      <td>1933140</td>\n",
       "    </tr>\n",
       "    <tr>\n",
       "      <th>0</th>\n",
       "      <td>383</td>\n",
       "      <td>1491</td>\n",
       "      <td>39.5</td>\n",
       "      <td>114.971147</td>\n",
       "      <td>111.821252</td>\n",
       "      <td>150</td>\n",
       "      <td>4.0</td>\n",
       "      <td>14.0</td>\n",
       "      <td>5.0</td>\n",
       "      <td>1928432</td>\n",
       "    </tr>\n",
       "    <tr>\n",
       "      <th>3</th>\n",
       "      <td>315</td>\n",
       "      <td>1492</td>\n",
       "      <td>38.5</td>\n",
       "      <td>114.923138</td>\n",
       "      <td>111.795978</td>\n",
       "      <td>150</td>\n",
       "      <td>5.0</td>\n",
       "      <td>15.0</td>\n",
       "      <td>7.0</td>\n",
       "      <td>1927191</td>\n",
       "    </tr>\n",
       "    <tr>\n",
       "      <th>8</th>\n",
       "      <td>267</td>\n",
       "      <td>1495</td>\n",
       "      <td>35.5</td>\n",
       "      <td>116.201882</td>\n",
       "      <td>107.792535</td>\n",
       "      <td>153</td>\n",
       "      <td>10.0</td>\n",
       "      <td>13.0</td>\n",
       "      <td>15.0</td>\n",
       "      <td>1916431</td>\n",
       "    </tr>\n",
       "    <tr>\n",
       "      <th>11</th>\n",
       "      <td>205</td>\n",
       "      <td>1498</td>\n",
       "      <td>35.0</td>\n",
       "      <td>117.280831</td>\n",
       "      <td>106.618938</td>\n",
       "      <td>153</td>\n",
       "      <td>12.0</td>\n",
       "      <td>12.0</td>\n",
       "      <td>15.0</td>\n",
       "      <td>1913166</td>\n",
       "    </tr>\n",
       "    <tr>\n",
       "      <th>2</th>\n",
       "      <td>339</td>\n",
       "      <td>1500</td>\n",
       "      <td>38.0</td>\n",
       "      <td>116.839912</td>\n",
       "      <td>111.387383</td>\n",
       "      <td>147</td>\n",
       "      <td>8.0</td>\n",
       "      <td>15.0</td>\n",
       "      <td>4.0</td>\n",
       "      <td>1913130</td>\n",
       "    </tr>\n",
       "    <tr>\n",
       "      <th>6</th>\n",
       "      <td>277</td>\n",
       "      <td>1497</td>\n",
       "      <td>34.5</td>\n",
       "      <td>116.829077</td>\n",
       "      <td>107.725512</td>\n",
       "      <td>152</td>\n",
       "      <td>12.0</td>\n",
       "      <td>14.0</td>\n",
       "      <td>15.0</td>\n",
       "      <td>1912991</td>\n",
       "    </tr>\n",
       "    <tr>\n",
       "      <th>14</th>\n",
       "      <td>90</td>\n",
       "      <td>1493</td>\n",
       "      <td>41.0</td>\n",
       "      <td>116.113801</td>\n",
       "      <td>108.956101</td>\n",
       "      <td>151</td>\n",
       "      <td>4.0</td>\n",
       "      <td>9.0</td>\n",
       "      <td>5.0</td>\n",
       "      <td>1910347</td>\n",
       "    </tr>\n",
       "    <tr>\n",
       "      <th>19</th>\n",
       "      <td>19</td>\n",
       "      <td>1493</td>\n",
       "      <td>38.5</td>\n",
       "      <td>116.486718</td>\n",
       "      <td>107.887028</td>\n",
       "      <td>152</td>\n",
       "      <td>7.0</td>\n",
       "      <td>10.0</td>\n",
       "      <td>9.0</td>\n",
       "      <td>1910245</td>\n",
       "    </tr>\n",
       "    <tr>\n",
       "      <th>18</th>\n",
       "      <td>67</td>\n",
       "      <td>1497</td>\n",
       "      <td>40.5</td>\n",
       "      <td>117.334987</td>\n",
       "      <td>102.271712</td>\n",
       "      <td>159</td>\n",
       "      <td>6.0</td>\n",
       "      <td>1.0</td>\n",
       "      <td>15.0</td>\n",
       "      <td>1908007</td>\n",
       "    </tr>\n",
       "    <tr>\n",
       "      <th>7</th>\n",
       "      <td>268</td>\n",
       "      <td>1494</td>\n",
       "      <td>35.5</td>\n",
       "      <td>116.966368</td>\n",
       "      <td>106.263563</td>\n",
       "      <td>153</td>\n",
       "      <td>11.0</td>\n",
       "      <td>11.0</td>\n",
       "      <td>15.0</td>\n",
       "      <td>1901677</td>\n",
       "    </tr>\n",
       "    <tr>\n",
       "      <th>9</th>\n",
       "      <td>259</td>\n",
       "      <td>1494</td>\n",
       "      <td>35.0</td>\n",
       "      <td>117.280831</td>\n",
       "      <td>106.618938</td>\n",
       "      <td>152</td>\n",
       "      <td>12.0</td>\n",
       "      <td>12.0</td>\n",
       "      <td>14.0</td>\n",
       "      <td>1900662</td>\n",
       "    </tr>\n",
       "    <tr>\n",
       "      <th>12</th>\n",
       "      <td>199</td>\n",
       "      <td>1493</td>\n",
       "      <td>36.0</td>\n",
       "      <td>117.411767</td>\n",
       "      <td>105.900809</td>\n",
       "      <td>152</td>\n",
       "      <td>11.0</td>\n",
       "      <td>10.0</td>\n",
       "      <td>13.0</td>\n",
       "      <td>1889968</td>\n",
       "    </tr>\n",
       "    <tr>\n",
       "      <th>16</th>\n",
       "      <td>71</td>\n",
       "      <td>1498</td>\n",
       "      <td>39.0</td>\n",
       "      <td>118.480187</td>\n",
       "      <td>109.064543</td>\n",
       "      <td>146</td>\n",
       "      <td>9.0</td>\n",
       "      <td>11.0</td>\n",
       "      <td>1.0</td>\n",
       "      <td>1886610</td>\n",
       "    </tr>\n",
       "    <tr>\n",
       "      <th>15</th>\n",
       "      <td>81</td>\n",
       "      <td>1494</td>\n",
       "      <td>34.0</td>\n",
       "      <td>118.642623</td>\n",
       "      <td>105.040284</td>\n",
       "      <td>151</td>\n",
       "      <td>15.0</td>\n",
       "      <td>11.0</td>\n",
       "      <td>14.0</td>\n",
       "      <td>1881800</td>\n",
       "    </tr>\n",
       "    <tr>\n",
       "      <th>4</th>\n",
       "      <td>286</td>\n",
       "      <td>1493</td>\n",
       "      <td>33.5</td>\n",
       "      <td>118.178467</td>\n",
       "      <td>106.134801</td>\n",
       "      <td>150</td>\n",
       "      <td>15.0</td>\n",
       "      <td>13.0</td>\n",
       "      <td>14.0</td>\n",
       "      <td>1881427</td>\n",
       "    </tr>\n",
       "    <tr>\n",
       "      <th>17</th>\n",
       "      <td>30</td>\n",
       "      <td>1492</td>\n",
       "      <td>41.5</td>\n",
       "      <td>119.670002</td>\n",
       "      <td>103.714002</td>\n",
       "      <td>149</td>\n",
       "      <td>8.0</td>\n",
       "      <td>2.0</td>\n",
       "      <td>2.0</td>\n",
       "      <td>1849306</td>\n",
       "    </tr>\n",
       "    <tr>\n",
       "      <th>13</th>\n",
       "      <td>171</td>\n",
       "      <td>1495</td>\n",
       "      <td>39.5</td>\n",
       "      <td>120.483462</td>\n",
       "      <td>100.796622</td>\n",
       "      <td>152</td>\n",
       "      <td>11.0</td>\n",
       "      <td>0.0</td>\n",
       "      <td>8.0</td>\n",
       "      <td>1845937</td>\n",
       "    </tr>\n",
       "    <tr>\n",
       "      <th>1</th>\n",
       "      <td>343</td>\n",
       "      <td>1497</td>\n",
       "      <td>40.0</td>\n",
       "      <td>122.496500</td>\n",
       "      <td>101.158400</td>\n",
       "      <td>147</td>\n",
       "      <td>13.0</td>\n",
       "      <td>0.0</td>\n",
       "      <td>1.0</td>\n",
       "      <td>1821557</td>\n",
       "    </tr>\n",
       "  </tbody>\n",
       "</table>\n",
       "</div>"
      ],
      "text/plain": [
       "      CP  max CP  level      attack     defense  stamina     a     d     s  \\\n",
       "20    10    1492   41.0  112.932601  109.751401      159   0.0  10.0  14.0   \n",
       "5    284    1494   39.0  112.987728  111.418454      156   2.0  14.0  14.0   \n",
       "22  1083    1494   39.0  114.557002  109.064543      156   4.0  11.0  13.0   \n",
       "21  1327    1493   37.5  114.857614  109.425160      154   6.0  13.0  13.0   \n",
       "10   213    1493   39.5  114.971147  107.096411      157   4.0   8.0  14.0   \n",
       "0    383    1491   39.5  114.971147  111.821252      150   4.0  14.0   5.0   \n",
       "3    315    1492   38.5  114.923138  111.795978      150   5.0  15.0   7.0   \n",
       "8    267    1495   35.5  116.201882  107.792535      153  10.0  13.0  15.0   \n",
       "11   205    1498   35.0  117.280831  106.618938      153  12.0  12.0  15.0   \n",
       "2    339    1500   38.0  116.839912  111.387383      147   8.0  15.0   4.0   \n",
       "6    277    1497   34.5  116.829077  107.725512      152  12.0  14.0  15.0   \n",
       "14    90    1493   41.0  116.113801  108.956101      151   4.0   9.0   5.0   \n",
       "19    19    1493   38.5  116.486718  107.887028      152   7.0  10.0   9.0   \n",
       "18    67    1497   40.5  117.334987  102.271712      159   6.0   1.0  15.0   \n",
       "7    268    1494   35.5  116.966368  106.263563      153  11.0  11.0  15.0   \n",
       "9    259    1494   35.0  117.280831  106.618938      152  12.0  12.0  14.0   \n",
       "12   199    1493   36.0  117.411767  105.900809      152  11.0  10.0  13.0   \n",
       "16    71    1498   39.0  118.480187  109.064543      146   9.0  11.0   1.0   \n",
       "15    81    1494   34.0  118.642623  105.040284      151  15.0  11.0  14.0   \n",
       "4    286    1493   33.5  118.178467  106.134801      150  15.0  13.0  14.0   \n",
       "17    30    1492   41.5  119.670002  103.714002      149   8.0   2.0   2.0   \n",
       "13   171    1495   39.5  120.483462  100.796622      152  11.0   0.0   8.0   \n",
       "1    343    1497   40.0  122.496500  101.158400      147  13.0   0.0   1.0   \n",
       "\n",
       "    statprod  \n",
       "20   1970727  \n",
       "5    1963871  \n",
       "22   1949080  \n",
       "21   1935520  \n",
       "10   1933140  \n",
       "0    1928432  \n",
       "3    1927191  \n",
       "8    1916431  \n",
       "11   1913166  \n",
       "2    1913130  \n",
       "6    1912991  \n",
       "14   1910347  \n",
       "19   1910245  \n",
       "18   1908007  \n",
       "7    1901677  \n",
       "9    1900662  \n",
       "12   1889968  \n",
       "16   1886610  \n",
       "15   1881800  \n",
       "4    1881427  \n",
       "17   1849306  \n",
       "13   1845937  \n",
       "1    1821557  "
      ]
     },
     "metadata": {},
     "output_type": "display_data"
    },
    {
     "data": {
      "text/markdown": [
       "### Drap/A9 CMP"
      ],
      "text/plain": [
       "<IPython.core.display.Markdown object>"
      ]
     },
     "metadata": {},
     "output_type": "display_data"
    },
    {
     "data": {
      "text/html": [
       "<div>\n",
       "<style scoped>\n",
       "    .dataframe tbody tr th:only-of-type {\n",
       "        vertical-align: middle;\n",
       "    }\n",
       "\n",
       "    .dataframe tbody tr th {\n",
       "        vertical-align: top;\n",
       "    }\n",
       "\n",
       "    .dataframe thead th {\n",
       "        text-align: right;\n",
       "    }\n",
       "</style>\n",
       "<table border=\"1\" class=\"dataframe\">\n",
       "  <thead>\n",
       "    <tr style=\"text-align: right;\">\n",
       "      <th></th>\n",
       "      <th>CP</th>\n",
       "      <th>max CP</th>\n",
       "      <th>level</th>\n",
       "      <th>attack</th>\n",
       "      <th>defense</th>\n",
       "      <th>stamina</th>\n",
       "      <th>a</th>\n",
       "      <th>d</th>\n",
       "      <th>s</th>\n",
       "      <th>statprod</th>\n",
       "    </tr>\n",
       "  </thead>\n",
       "  <tbody>\n",
       "    <tr>\n",
       "      <th>22</th>\n",
       "      <td>1083</td>\n",
       "      <td>1494</td>\n",
       "      <td>39.0</td>\n",
       "      <td>114.557002</td>\n",
       "      <td>109.064543</td>\n",
       "      <td>156</td>\n",
       "      <td>4.0</td>\n",
       "      <td>11.0</td>\n",
       "      <td>13.0</td>\n",
       "      <td>1949080</td>\n",
       "    </tr>\n",
       "    <tr>\n",
       "      <th>21</th>\n",
       "      <td>1327</td>\n",
       "      <td>1493</td>\n",
       "      <td>37.5</td>\n",
       "      <td>114.857614</td>\n",
       "      <td>109.425160</td>\n",
       "      <td>154</td>\n",
       "      <td>6.0</td>\n",
       "      <td>13.0</td>\n",
       "      <td>13.0</td>\n",
       "      <td>1935520</td>\n",
       "    </tr>\n",
       "    <tr>\n",
       "      <th>10</th>\n",
       "      <td>213</td>\n",
       "      <td>1493</td>\n",
       "      <td>39.5</td>\n",
       "      <td>114.971147</td>\n",
       "      <td>107.096411</td>\n",
       "      <td>157</td>\n",
       "      <td>4.0</td>\n",
       "      <td>8.0</td>\n",
       "      <td>14.0</td>\n",
       "      <td>1933140</td>\n",
       "    </tr>\n",
       "    <tr>\n",
       "      <th>0</th>\n",
       "      <td>383</td>\n",
       "      <td>1491</td>\n",
       "      <td>39.5</td>\n",
       "      <td>114.971147</td>\n",
       "      <td>111.821252</td>\n",
       "      <td>150</td>\n",
       "      <td>4.0</td>\n",
       "      <td>14.0</td>\n",
       "      <td>5.0</td>\n",
       "      <td>1928432</td>\n",
       "    </tr>\n",
       "    <tr>\n",
       "      <th>3</th>\n",
       "      <td>315</td>\n",
       "      <td>1492</td>\n",
       "      <td>38.5</td>\n",
       "      <td>114.923138</td>\n",
       "      <td>111.795978</td>\n",
       "      <td>150</td>\n",
       "      <td>5.0</td>\n",
       "      <td>15.0</td>\n",
       "      <td>7.0</td>\n",
       "      <td>1927191</td>\n",
       "    </tr>\n",
       "    <tr>\n",
       "      <th>8</th>\n",
       "      <td>267</td>\n",
       "      <td>1495</td>\n",
       "      <td>35.5</td>\n",
       "      <td>116.201882</td>\n",
       "      <td>107.792535</td>\n",
       "      <td>153</td>\n",
       "      <td>10.0</td>\n",
       "      <td>13.0</td>\n",
       "      <td>15.0</td>\n",
       "      <td>1916431</td>\n",
       "    </tr>\n",
       "    <tr>\n",
       "      <th>11</th>\n",
       "      <td>205</td>\n",
       "      <td>1498</td>\n",
       "      <td>35.0</td>\n",
       "      <td>117.280831</td>\n",
       "      <td>106.618938</td>\n",
       "      <td>153</td>\n",
       "      <td>12.0</td>\n",
       "      <td>12.0</td>\n",
       "      <td>15.0</td>\n",
       "      <td>1913166</td>\n",
       "    </tr>\n",
       "    <tr>\n",
       "      <th>2</th>\n",
       "      <td>339</td>\n",
       "      <td>1500</td>\n",
       "      <td>38.0</td>\n",
       "      <td>116.839912</td>\n",
       "      <td>111.387383</td>\n",
       "      <td>147</td>\n",
       "      <td>8.0</td>\n",
       "      <td>15.0</td>\n",
       "      <td>4.0</td>\n",
       "      <td>1913130</td>\n",
       "    </tr>\n",
       "    <tr>\n",
       "      <th>6</th>\n",
       "      <td>277</td>\n",
       "      <td>1497</td>\n",
       "      <td>34.5</td>\n",
       "      <td>116.829077</td>\n",
       "      <td>107.725512</td>\n",
       "      <td>152</td>\n",
       "      <td>12.0</td>\n",
       "      <td>14.0</td>\n",
       "      <td>15.0</td>\n",
       "      <td>1912991</td>\n",
       "    </tr>\n",
       "    <tr>\n",
       "      <th>14</th>\n",
       "      <td>90</td>\n",
       "      <td>1493</td>\n",
       "      <td>41.0</td>\n",
       "      <td>116.113801</td>\n",
       "      <td>108.956101</td>\n",
       "      <td>151</td>\n",
       "      <td>4.0</td>\n",
       "      <td>9.0</td>\n",
       "      <td>5.0</td>\n",
       "      <td>1910347</td>\n",
       "    </tr>\n",
       "    <tr>\n",
       "      <th>19</th>\n",
       "      <td>19</td>\n",
       "      <td>1493</td>\n",
       "      <td>38.5</td>\n",
       "      <td>116.486718</td>\n",
       "      <td>107.887028</td>\n",
       "      <td>152</td>\n",
       "      <td>7.0</td>\n",
       "      <td>10.0</td>\n",
       "      <td>9.0</td>\n",
       "      <td>1910245</td>\n",
       "    </tr>\n",
       "    <tr>\n",
       "      <th>18</th>\n",
       "      <td>67</td>\n",
       "      <td>1497</td>\n",
       "      <td>40.5</td>\n",
       "      <td>117.334987</td>\n",
       "      <td>102.271712</td>\n",
       "      <td>159</td>\n",
       "      <td>6.0</td>\n",
       "      <td>1.0</td>\n",
       "      <td>15.0</td>\n",
       "      <td>1908007</td>\n",
       "    </tr>\n",
       "    <tr>\n",
       "      <th>7</th>\n",
       "      <td>268</td>\n",
       "      <td>1494</td>\n",
       "      <td>35.5</td>\n",
       "      <td>116.966368</td>\n",
       "      <td>106.263563</td>\n",
       "      <td>153</td>\n",
       "      <td>11.0</td>\n",
       "      <td>11.0</td>\n",
       "      <td>15.0</td>\n",
       "      <td>1901677</td>\n",
       "    </tr>\n",
       "    <tr>\n",
       "      <th>9</th>\n",
       "      <td>259</td>\n",
       "      <td>1494</td>\n",
       "      <td>35.0</td>\n",
       "      <td>117.280831</td>\n",
       "      <td>106.618938</td>\n",
       "      <td>152</td>\n",
       "      <td>12.0</td>\n",
       "      <td>12.0</td>\n",
       "      <td>14.0</td>\n",
       "      <td>1900662</td>\n",
       "    </tr>\n",
       "    <tr>\n",
       "      <th>12</th>\n",
       "      <td>199</td>\n",
       "      <td>1493</td>\n",
       "      <td>36.0</td>\n",
       "      <td>117.411767</td>\n",
       "      <td>105.900809</td>\n",
       "      <td>152</td>\n",
       "      <td>11.0</td>\n",
       "      <td>10.0</td>\n",
       "      <td>13.0</td>\n",
       "      <td>1889968</td>\n",
       "    </tr>\n",
       "    <tr>\n",
       "      <th>16</th>\n",
       "      <td>71</td>\n",
       "      <td>1498</td>\n",
       "      <td>39.0</td>\n",
       "      <td>118.480187</td>\n",
       "      <td>109.064543</td>\n",
       "      <td>146</td>\n",
       "      <td>9.0</td>\n",
       "      <td>11.0</td>\n",
       "      <td>1.0</td>\n",
       "      <td>1886610</td>\n",
       "    </tr>\n",
       "    <tr>\n",
       "      <th>15</th>\n",
       "      <td>81</td>\n",
       "      <td>1494</td>\n",
       "      <td>34.0</td>\n",
       "      <td>118.642623</td>\n",
       "      <td>105.040284</td>\n",
       "      <td>151</td>\n",
       "      <td>15.0</td>\n",
       "      <td>11.0</td>\n",
       "      <td>14.0</td>\n",
       "      <td>1881800</td>\n",
       "    </tr>\n",
       "    <tr>\n",
       "      <th>4</th>\n",
       "      <td>286</td>\n",
       "      <td>1493</td>\n",
       "      <td>33.5</td>\n",
       "      <td>118.178467</td>\n",
       "      <td>106.134801</td>\n",
       "      <td>150</td>\n",
       "      <td>15.0</td>\n",
       "      <td>13.0</td>\n",
       "      <td>14.0</td>\n",
       "      <td>1881427</td>\n",
       "    </tr>\n",
       "    <tr>\n",
       "      <th>17</th>\n",
       "      <td>30</td>\n",
       "      <td>1492</td>\n",
       "      <td>41.5</td>\n",
       "      <td>119.670002</td>\n",
       "      <td>103.714002</td>\n",
       "      <td>149</td>\n",
       "      <td>8.0</td>\n",
       "      <td>2.0</td>\n",
       "      <td>2.0</td>\n",
       "      <td>1849306</td>\n",
       "    </tr>\n",
       "    <tr>\n",
       "      <th>13</th>\n",
       "      <td>171</td>\n",
       "      <td>1495</td>\n",
       "      <td>39.5</td>\n",
       "      <td>120.483462</td>\n",
       "      <td>100.796622</td>\n",
       "      <td>152</td>\n",
       "      <td>11.0</td>\n",
       "      <td>0.0</td>\n",
       "      <td>8.0</td>\n",
       "      <td>1845937</td>\n",
       "    </tr>\n",
       "    <tr>\n",
       "      <th>1</th>\n",
       "      <td>343</td>\n",
       "      <td>1497</td>\n",
       "      <td>40.0</td>\n",
       "      <td>122.496500</td>\n",
       "      <td>101.158400</td>\n",
       "      <td>147</td>\n",
       "      <td>13.0</td>\n",
       "      <td>0.0</td>\n",
       "      <td>1.0</td>\n",
       "      <td>1821557</td>\n",
       "    </tr>\n",
       "  </tbody>\n",
       "</table>\n",
       "</div>"
      ],
      "text/plain": [
       "      CP  max CP  level      attack     defense  stamina     a     d     s  \\\n",
       "22  1083    1494   39.0  114.557002  109.064543      156   4.0  11.0  13.0   \n",
       "21  1327    1493   37.5  114.857614  109.425160      154   6.0  13.0  13.0   \n",
       "10   213    1493   39.5  114.971147  107.096411      157   4.0   8.0  14.0   \n",
       "0    383    1491   39.5  114.971147  111.821252      150   4.0  14.0   5.0   \n",
       "3    315    1492   38.5  114.923138  111.795978      150   5.0  15.0   7.0   \n",
       "8    267    1495   35.5  116.201882  107.792535      153  10.0  13.0  15.0   \n",
       "11   205    1498   35.0  117.280831  106.618938      153  12.0  12.0  15.0   \n",
       "2    339    1500   38.0  116.839912  111.387383      147   8.0  15.0   4.0   \n",
       "6    277    1497   34.5  116.829077  107.725512      152  12.0  14.0  15.0   \n",
       "14    90    1493   41.0  116.113801  108.956101      151   4.0   9.0   5.0   \n",
       "19    19    1493   38.5  116.486718  107.887028      152   7.0  10.0   9.0   \n",
       "18    67    1497   40.5  117.334987  102.271712      159   6.0   1.0  15.0   \n",
       "7    268    1494   35.5  116.966368  106.263563      153  11.0  11.0  15.0   \n",
       "9    259    1494   35.0  117.280831  106.618938      152  12.0  12.0  14.0   \n",
       "12   199    1493   36.0  117.411767  105.900809      152  11.0  10.0  13.0   \n",
       "16    71    1498   39.0  118.480187  109.064543      146   9.0  11.0   1.0   \n",
       "15    81    1494   34.0  118.642623  105.040284      151  15.0  11.0  14.0   \n",
       "4    286    1493   33.5  118.178467  106.134801      150  15.0  13.0  14.0   \n",
       "17    30    1492   41.5  119.670002  103.714002      149   8.0   2.0   2.0   \n",
       "13   171    1495   39.5  120.483462  100.796622      152  11.0   0.0   8.0   \n",
       "1    343    1497   40.0  122.496500  101.158400      147  13.0   0.0   1.0   \n",
       "\n",
       "    statprod  \n",
       "22   1949080  \n",
       "21   1935520  \n",
       "10   1933140  \n",
       "0    1928432  \n",
       "3    1927191  \n",
       "8    1916431  \n",
       "11   1913166  \n",
       "2    1913130  \n",
       "6    1912991  \n",
       "14   1910347  \n",
       "19   1910245  \n",
       "18   1908007  \n",
       "7    1901677  \n",
       "9    1900662  \n",
       "12   1889968  \n",
       "16   1886610  \n",
       "15   1881800  \n",
       "4    1881427  \n",
       "17   1849306  \n",
       "13   1845937  \n",
       "1    1821557  "
      ]
     },
     "metadata": {},
     "output_type": "display_data"
    },
    {
     "data": {
      "text/markdown": [
       "### Diggers"
      ],
      "text/plain": [
       "<IPython.core.display.Markdown object>"
      ]
     },
     "metadata": {},
     "output_type": "display_data"
    },
    {
     "data": {
      "text/html": [
       "<div>\n",
       "<style scoped>\n",
       "    .dataframe tbody tr th:only-of-type {\n",
       "        vertical-align: middle;\n",
       "    }\n",
       "\n",
       "    .dataframe tbody tr th {\n",
       "        vertical-align: top;\n",
       "    }\n",
       "\n",
       "    .dataframe thead th {\n",
       "        text-align: right;\n",
       "    }\n",
       "</style>\n",
       "<table border=\"1\" class=\"dataframe\">\n",
       "  <thead>\n",
       "    <tr style=\"text-align: right;\">\n",
       "      <th></th>\n",
       "      <th>CP</th>\n",
       "      <th>max CP</th>\n",
       "      <th>level</th>\n",
       "      <th>attack</th>\n",
       "      <th>defense</th>\n",
       "      <th>stamina</th>\n",
       "      <th>a</th>\n",
       "      <th>d</th>\n",
       "      <th>s</th>\n",
       "      <th>statprod</th>\n",
       "    </tr>\n",
       "  </thead>\n",
       "  <tbody>\n",
       "    <tr>\n",
       "      <th>5</th>\n",
       "      <td>284</td>\n",
       "      <td>1494</td>\n",
       "      <td>39.0</td>\n",
       "      <td>112.987728</td>\n",
       "      <td>111.418454</td>\n",
       "      <td>156</td>\n",
       "      <td>2.0</td>\n",
       "      <td>14.0</td>\n",
       "      <td>14.0</td>\n",
       "      <td>1963871</td>\n",
       "    </tr>\n",
       "    <tr>\n",
       "      <th>0</th>\n",
       "      <td>383</td>\n",
       "      <td>1491</td>\n",
       "      <td>39.5</td>\n",
       "      <td>114.971147</td>\n",
       "      <td>111.821252</td>\n",
       "      <td>150</td>\n",
       "      <td>4.0</td>\n",
       "      <td>14.0</td>\n",
       "      <td>5.0</td>\n",
       "      <td>1928432</td>\n",
       "    </tr>\n",
       "    <tr>\n",
       "      <th>3</th>\n",
       "      <td>315</td>\n",
       "      <td>1492</td>\n",
       "      <td>38.5</td>\n",
       "      <td>114.923138</td>\n",
       "      <td>111.795978</td>\n",
       "      <td>150</td>\n",
       "      <td>5.0</td>\n",
       "      <td>15.0</td>\n",
       "      <td>7.0</td>\n",
       "      <td>1927191</td>\n",
       "    </tr>\n",
       "    <tr>\n",
       "      <th>2</th>\n",
       "      <td>339</td>\n",
       "      <td>1500</td>\n",
       "      <td>38.0</td>\n",
       "      <td>116.839912</td>\n",
       "      <td>111.387383</td>\n",
       "      <td>147</td>\n",
       "      <td>8.0</td>\n",
       "      <td>15.0</td>\n",
       "      <td>4.0</td>\n",
       "      <td>1913130</td>\n",
       "    </tr>\n",
       "  </tbody>\n",
       "</table>\n",
       "</div>"
      ],
      "text/plain": [
       "    CP  max CP  level      attack     defense  stamina    a     d     s  \\\n",
       "5  284    1494   39.0  112.987728  111.418454      156  2.0  14.0  14.0   \n",
       "0  383    1491   39.5  114.971147  111.821252      150  4.0  14.0   5.0   \n",
       "3  315    1492   38.5  114.923138  111.795978      150  5.0  15.0   7.0   \n",
       "2  339    1500   38.0  116.839912  111.387383      147  8.0  15.0   4.0   \n",
       "\n",
       "   statprod  \n",
       "5   1963871  \n",
       "0   1928432  \n",
       "3   1927191  \n",
       "2   1913130  "
      ]
     },
     "metadata": {},
     "output_type": "display_data"
    },
    {
     "data": {
      "text/markdown": [
       "### SwagAtk FS Awak"
      ],
      "text/plain": [
       "<IPython.core.display.Markdown object>"
      ]
     },
     "metadata": {},
     "output_type": "display_data"
    },
    {
     "data": {
      "text/html": [
       "<div>\n",
       "<style scoped>\n",
       "    .dataframe tbody tr th:only-of-type {\n",
       "        vertical-align: middle;\n",
       "    }\n",
       "\n",
       "    .dataframe tbody tr th {\n",
       "        vertical-align: top;\n",
       "    }\n",
       "\n",
       "    .dataframe thead th {\n",
       "        text-align: right;\n",
       "    }\n",
       "</style>\n",
       "<table border=\"1\" class=\"dataframe\">\n",
       "  <thead>\n",
       "    <tr style=\"text-align: right;\">\n",
       "      <th></th>\n",
       "      <th>CP</th>\n",
       "      <th>max CP</th>\n",
       "      <th>level</th>\n",
       "      <th>attack</th>\n",
       "      <th>defense</th>\n",
       "      <th>stamina</th>\n",
       "      <th>a</th>\n",
       "      <th>d</th>\n",
       "      <th>s</th>\n",
       "      <th>statprod</th>\n",
       "    </tr>\n",
       "  </thead>\n",
       "  <tbody>\n",
       "    <tr>\n",
       "      <th>5</th>\n",
       "      <td>284</td>\n",
       "      <td>1494</td>\n",
       "      <td>39.0</td>\n",
       "      <td>112.987728</td>\n",
       "      <td>111.418454</td>\n",
       "      <td>156</td>\n",
       "      <td>2.0</td>\n",
       "      <td>14.0</td>\n",
       "      <td>14.0</td>\n",
       "      <td>1963871</td>\n",
       "    </tr>\n",
       "    <tr>\n",
       "      <th>0</th>\n",
       "      <td>383</td>\n",
       "      <td>1491</td>\n",
       "      <td>39.5</td>\n",
       "      <td>114.971147</td>\n",
       "      <td>111.821252</td>\n",
       "      <td>150</td>\n",
       "      <td>4.0</td>\n",
       "      <td>14.0</td>\n",
       "      <td>5.0</td>\n",
       "      <td>1928432</td>\n",
       "    </tr>\n",
       "    <tr>\n",
       "      <th>3</th>\n",
       "      <td>315</td>\n",
       "      <td>1492</td>\n",
       "      <td>38.5</td>\n",
       "      <td>114.923138</td>\n",
       "      <td>111.795978</td>\n",
       "      <td>150</td>\n",
       "      <td>5.0</td>\n",
       "      <td>15.0</td>\n",
       "      <td>7.0</td>\n",
       "      <td>1927191</td>\n",
       "    </tr>\n",
       "    <tr>\n",
       "      <th>2</th>\n",
       "      <td>339</td>\n",
       "      <td>1500</td>\n",
       "      <td>38.0</td>\n",
       "      <td>116.839912</td>\n",
       "      <td>111.387383</td>\n",
       "      <td>147</td>\n",
       "      <td>8.0</td>\n",
       "      <td>15.0</td>\n",
       "      <td>4.0</td>\n",
       "      <td>1913130</td>\n",
       "    </tr>\n",
       "  </tbody>\n",
       "</table>\n",
       "</div>"
      ],
      "text/plain": [
       "    CP  max CP  level      attack     defense  stamina    a     d     s  \\\n",
       "5  284    1494   39.0  112.987728  111.418454      156  2.0  14.0  14.0   \n",
       "0  383    1491   39.5  114.971147  111.821252      150  4.0  14.0   5.0   \n",
       "3  315    1492   38.5  114.923138  111.795978      150  5.0  15.0   7.0   \n",
       "2  339    1500   38.0  116.839912  111.387383      147  8.0  15.0   4.0   \n",
       "\n",
       "   statprod  \n",
       "5   1963871  \n",
       "0   1928432  \n",
       "3   1927191  \n",
       "2   1913130  "
      ]
     },
     "metadata": {},
     "output_type": "display_data"
    },
    {
     "data": {
      "text/markdown": [
       "### Best"
      ],
      "text/plain": [
       "<IPython.core.display.Markdown object>"
      ]
     },
     "metadata": {},
     "output_type": "display_data"
    },
    {
     "data": {
      "text/html": [
       "<div>\n",
       "<style scoped>\n",
       "    .dataframe tbody tr th:only-of-type {\n",
       "        vertical-align: middle;\n",
       "    }\n",
       "\n",
       "    .dataframe tbody tr th {\n",
       "        vertical-align: top;\n",
       "    }\n",
       "\n",
       "    .dataframe thead th {\n",
       "        text-align: right;\n",
       "    }\n",
       "</style>\n",
       "<table border=\"1\" class=\"dataframe\">\n",
       "  <thead>\n",
       "    <tr style=\"text-align: right;\">\n",
       "      <th></th>\n",
       "      <th>CP</th>\n",
       "      <th>max CP</th>\n",
       "      <th>level</th>\n",
       "      <th>attack</th>\n",
       "      <th>defense</th>\n",
       "      <th>stamina</th>\n",
       "      <th>a</th>\n",
       "      <th>d</th>\n",
       "      <th>s</th>\n",
       "      <th>statprod</th>\n",
       "    </tr>\n",
       "  </thead>\n",
       "  <tbody>\n",
       "    <tr>\n",
       "      <th>0</th>\n",
       "      <td>383</td>\n",
       "      <td>1491</td>\n",
       "      <td>39.5</td>\n",
       "      <td>114.971147</td>\n",
       "      <td>111.821252</td>\n",
       "      <td>150</td>\n",
       "      <td>4.0</td>\n",
       "      <td>14.0</td>\n",
       "      <td>5.0</td>\n",
       "      <td>1928432</td>\n",
       "    </tr>\n",
       "    <tr>\n",
       "      <th>3</th>\n",
       "      <td>315</td>\n",
       "      <td>1492</td>\n",
       "      <td>38.5</td>\n",
       "      <td>114.923138</td>\n",
       "      <td>111.795978</td>\n",
       "      <td>150</td>\n",
       "      <td>5.0</td>\n",
       "      <td>15.0</td>\n",
       "      <td>7.0</td>\n",
       "      <td>1927191</td>\n",
       "    </tr>\n",
       "    <tr>\n",
       "      <th>2</th>\n",
       "      <td>339</td>\n",
       "      <td>1500</td>\n",
       "      <td>38.0</td>\n",
       "      <td>116.839912</td>\n",
       "      <td>111.387383</td>\n",
       "      <td>147</td>\n",
       "      <td>8.0</td>\n",
       "      <td>15.0</td>\n",
       "      <td>4.0</td>\n",
       "      <td>1913130</td>\n",
       "    </tr>\n",
       "  </tbody>\n",
       "</table>\n",
       "</div>"
      ],
      "text/plain": [
       "    CP  max CP  level      attack     defense  stamina    a     d    s  \\\n",
       "0  383    1491   39.5  114.971147  111.821252      150  4.0  14.0  5.0   \n",
       "3  315    1492   38.5  114.923138  111.795978      150  5.0  15.0  7.0   \n",
       "2  339    1500   38.0  116.839912  111.387383      147  8.0  15.0  4.0   \n",
       "\n",
       "   statprod  \n",
       "0   1928432  \n",
       "3   1927191  \n",
       "2   1913130  "
      ]
     },
     "metadata": {},
     "output_type": "display_data"
    },
    {
     "data": {
      "text/markdown": [
       "## Ultra League"
      ],
      "text/plain": [
       "<IPython.core.display.Markdown object>"
      ]
     },
     "metadata": {},
     "output_type": "display_data"
    }
   ],
   "source": [
    "pvprankings.display_rs_info(df,'Linoone (Galarian)')"
   ]
  },
  {
   "cell_type": "code",
   "execution_count": 16,
   "id": "33e6e894-7f82-4988-bcc5-70a8bf767fd3",
   "metadata": {},
   "outputs": [
    {
     "data": {
      "text/markdown": [
       "# Toxapexs you have, according to the Swag Man"
      ],
      "text/plain": [
       "<IPython.core.display.Markdown object>"
      ]
     },
     "metadata": {},
     "output_type": "display_data"
    },
    {
     "data": {
      "text/markdown": [
       "Check out the article [here](https://gamepress.gg/pokemongo/toxapex-pvp-iv-deep-dive)!"
      ],
      "text/plain": [
       "<IPython.core.display.Markdown object>"
      ]
     },
     "metadata": {},
     "output_type": "display_data"
    },
    {
     "data": {
      "text/markdown": [
       "Check out the videos: [here](https://www.youtube.com/watch?v=7ZiNZvY8uXs)!"
      ],
      "text/plain": [
       "<IPython.core.display.Markdown object>"
      ]
     },
     "metadata": {},
     "output_type": "display_data"
    },
    {
     "data": {
      "text/markdown": [
       "Extra Tips: \n",
       "\n",
       "        High Bulk:\n",
       "        * For tie-breakers, generally HP > Def\n",
       "        * If you fear Swampert, 227.82+ Def is important\n",
       "        * If you hate Venusaur & Jumpluff, 91+ Atk is important\n",
       "\n",
       "        Mirror Slayer\n",
       "        * If you hate Venusaur & Jumpluff, 91+ Atk is important\n",
       "\n",
       "        Lickitung Slayer\n",
       "        * Rank 1 and 2 Best Buddy Lickitung require 94.13 Atk\n",
       "\n",
       "        Which IV is best? See the article. But Rank 1 is great, Ranks 2 and 3 get CMP over things, ranks 4 and 9 do better against swampert, etc.\n"
      ],
      "text/plain": [
       "<IPython.core.display.Markdown object>"
      ]
     },
     "metadata": {},
     "output_type": "display_data"
    },
    {
     "data": {
      "text/markdown": [
       "## Great League"
      ],
      "text/plain": [
       "<IPython.core.display.Markdown object>"
      ]
     },
     "metadata": {},
     "output_type": "display_data"
    },
    {
     "data": {
      "text/markdown": [
       "### High Bulk (226.73 Def, 118 HP)"
      ],
      "text/plain": [
       "<IPython.core.display.Markdown object>"
      ]
     },
     "metadata": {},
     "output_type": "display_data"
    },
    {
     "data": {
      "text/html": [
       "<div>\n",
       "<style scoped>\n",
       "    .dataframe tbody tr th:only-of-type {\n",
       "        vertical-align: middle;\n",
       "    }\n",
       "\n",
       "    .dataframe tbody tr th {\n",
       "        vertical-align: top;\n",
       "    }\n",
       "\n",
       "    .dataframe thead th {\n",
       "        text-align: right;\n",
       "    }\n",
       "</style>\n",
       "<table border=\"1\" class=\"dataframe\">\n",
       "  <thead>\n",
       "    <tr style=\"text-align: right;\">\n",
       "      <th></th>\n",
       "      <th>CP</th>\n",
       "      <th>max CP</th>\n",
       "      <th>level</th>\n",
       "      <th>attack</th>\n",
       "      <th>defense</th>\n",
       "      <th>stamina</th>\n",
       "      <th>a</th>\n",
       "      <th>d</th>\n",
       "      <th>s</th>\n",
       "      <th>statprod</th>\n",
       "    </tr>\n",
       "  </thead>\n",
       "  <tbody>\n",
       "    <tr>\n",
       "      <th>3</th>\n",
       "      <td>380</td>\n",
       "      <td>1498</td>\n",
       "      <td>41.5</td>\n",
       "      <td>90.949202</td>\n",
       "      <td>229.766404</td>\n",
       "      <td>118</td>\n",
       "      <td>0.0</td>\n",
       "      <td>15.0</td>\n",
       "      <td>11.0</td>\n",
       "      <td>2465854</td>\n",
       "    </tr>\n",
       "    <tr>\n",
       "      <th>55</th>\n",
       "      <td>1498</td>\n",
       "      <td>1498</td>\n",
       "      <td>41.5</td>\n",
       "      <td>90.949202</td>\n",
       "      <td>229.766404</td>\n",
       "      <td>118</td>\n",
       "      <td>0.0</td>\n",
       "      <td>15.0</td>\n",
       "      <td>11.0</td>\n",
       "      <td>2465854</td>\n",
       "    </tr>\n",
       "  </tbody>\n",
       "</table>\n",
       "</div>"
      ],
      "text/plain": [
       "      CP  max CP  level     attack     defense  stamina    a     d     s  \\\n",
       "3    380    1498   41.5  90.949202  229.766404      118  0.0  15.0  11.0   \n",
       "55  1498    1498   41.5  90.949202  229.766404      118  0.0  15.0  11.0   \n",
       "\n",
       "    statprod  \n",
       "3    2465854  \n",
       "55   2465854  "
      ]
     },
     "metadata": {},
     "output_type": "display_data"
    },
    {
     "data": {
      "text/markdown": [
       "### Mirror Slayer/Big HP (219 Def, 121 HP)"
      ],
      "text/plain": [
       "<IPython.core.display.Markdown object>"
      ]
     },
     "metadata": {},
     "output_type": "display_data"
    },
    {
     "data": {
      "text/html": [
       "<div>\n",
       "<style scoped>\n",
       "    .dataframe tbody tr th:only-of-type {\n",
       "        vertical-align: middle;\n",
       "    }\n",
       "\n",
       "    .dataframe tbody tr th {\n",
       "        vertical-align: top;\n",
       "    }\n",
       "\n",
       "    .dataframe thead th {\n",
       "        text-align: right;\n",
       "    }\n",
       "</style>\n",
       "<table border=\"1\" class=\"dataframe\">\n",
       "  <thead>\n",
       "    <tr style=\"text-align: right;\">\n",
       "      <th></th>\n",
       "      <th>CP</th>\n",
       "      <th>max CP</th>\n",
       "      <th>level</th>\n",
       "      <th>attack</th>\n",
       "      <th>defense</th>\n",
       "      <th>stamina</th>\n",
       "      <th>a</th>\n",
       "      <th>d</th>\n",
       "      <th>s</th>\n",
       "      <th>statprod</th>\n",
       "    </tr>\n",
       "  </thead>\n",
       "  <tbody>\n",
       "  </tbody>\n",
       "</table>\n",
       "</div>"
      ],
      "text/plain": [
       "Empty DataFrame\n",
       "Columns: [CP, max CP, level, attack, defense, stamina, a, d, s, statprod]\n",
       "Index: []"
      ]
     },
     "metadata": {},
     "output_type": "display_data"
    },
    {
     "data": {
      "text/markdown": [
       "### Lickitung Slayer (93 Atk, 118 HP)"
      ],
      "text/plain": [
       "<IPython.core.display.Markdown object>"
      ]
     },
     "metadata": {},
     "output_type": "display_data"
    },
    {
     "data": {
      "text/html": [
       "<div>\n",
       "<style scoped>\n",
       "    .dataframe tbody tr th:only-of-type {\n",
       "        vertical-align: middle;\n",
       "    }\n",
       "\n",
       "    .dataframe tbody tr th {\n",
       "        vertical-align: top;\n",
       "    }\n",
       "\n",
       "    .dataframe thead th {\n",
       "        text-align: right;\n",
       "    }\n",
       "</style>\n",
       "<table border=\"1\" class=\"dataframe\">\n",
       "  <thead>\n",
       "    <tr style=\"text-align: right;\">\n",
       "      <th></th>\n",
       "      <th>CP</th>\n",
       "      <th>max CP</th>\n",
       "      <th>level</th>\n",
       "      <th>attack</th>\n",
       "      <th>defense</th>\n",
       "      <th>stamina</th>\n",
       "      <th>a</th>\n",
       "      <th>d</th>\n",
       "      <th>s</th>\n",
       "      <th>statprod</th>\n",
       "    </tr>\n",
       "  </thead>\n",
       "  <tbody>\n",
       "    <tr>\n",
       "      <th>1</th>\n",
       "      <td>461</td>\n",
       "      <td>1495</td>\n",
       "      <td>38.5</td>\n",
       "      <td>93.033017</td>\n",
       "      <td>217.337635</td>\n",
       "      <td>118</td>\n",
       "      <td>5.0</td>\n",
       "      <td>5.0</td>\n",
       "      <td>15.0</td>\n",
       "      <td>2385909</td>\n",
       "    </tr>\n",
       "  </tbody>\n",
       "</table>\n",
       "</div>"
      ],
      "text/plain": [
       "    CP  max CP  level     attack     defense  stamina    a    d     s  \\\n",
       "1  461    1495   38.5  93.033017  217.337635      118  5.0  5.0  15.0   \n",
       "\n",
       "   statprod  \n",
       "1   2385909  "
      ]
     },
     "metadata": {},
     "output_type": "display_data"
    },
    {
     "data": {
      "text/markdown": [
       "## Ultra League"
      ],
      "text/plain": [
       "<IPython.core.display.Markdown object>"
      ]
     },
     "metadata": {},
     "output_type": "display_data"
    }
   ],
   "source": [
    "pvprankings.display_rs_info(df,'Toxapex')"
   ]
  },
  {
   "cell_type": "code",
   "execution_count": 17,
   "id": "123b56d5-a75d-46b7-876a-7dffbf30f01a",
   "metadata": {},
   "outputs": [
    {
     "data": {
      "text/markdown": [
       "# Lickitungs you have, according to the Swag Man"
      ],
      "text/plain": [
       "<IPython.core.display.Markdown object>"
      ]
     },
     "metadata": {},
     "output_type": "display_data"
    },
    {
     "data": {
      "text/markdown": [
       "Check out the article [here](https://gamepress.gg/pokemongo/lickitung-pvp-iv-deep-dive)!"
      ],
      "text/plain": [
       "<IPython.core.display.Markdown object>"
      ]
     },
     "metadata": {},
     "output_type": "display_data"
    },
    {
     "data": {
      "text/markdown": [
       "Check out the videos: [here]()!"
      ],
      "text/plain": [
       "<IPython.core.display.Markdown object>"
      ]
     },
     "metadata": {},
     "output_type": "display_data"
    },
    {
     "data": {
      "text/markdown": [
       "Extra Tips: General Good is minimum bulk for \"good\" lickitung.\n",
       "Atk focus: Potentiates Registeel and Shadow Walrein Breakpoints without giving up too much bulk, 126.2 Def, 126.58 Def, and 184 HP are notable stat checks, Priority Recommendation 126.2 Def=184 HP>185+ HP=126.58 Def\n",
       "Budget Boi: This budget list is for players who’ve already built a Lickitung and are wondering if they should build twice (or for players looking to save ~94 XL Candy), If you meet at least 125.1 Def and 181 HP, building a better Lickitung might not be worth it compared to other projects"
      ],
      "text/plain": [
       "<IPython.core.display.Markdown object>"
      ]
     },
     "metadata": {},
     "output_type": "display_data"
    },
    {
     "data": {
      "text/markdown": [
       "## Great League"
      ],
      "text/plain": [
       "<IPython.core.display.Markdown object>"
      ]
     },
     "metadata": {},
     "output_type": "display_data"
    },
    {
     "data": {
      "text/markdown": [
       "### General Good (125.94 def, 183 hp)"
      ],
      "text/plain": [
       "<IPython.core.display.Markdown object>"
      ]
     },
     "metadata": {},
     "output_type": "display_data"
    },
    {
     "data": {
      "text/html": [
       "<div>\n",
       "<style scoped>\n",
       "    .dataframe tbody tr th:only-of-type {\n",
       "        vertical-align: middle;\n",
       "    }\n",
       "\n",
       "    .dataframe tbody tr th {\n",
       "        vertical-align: top;\n",
       "    }\n",
       "\n",
       "    .dataframe thead th {\n",
       "        text-align: right;\n",
       "    }\n",
       "</style>\n",
       "<table border=\"1\" class=\"dataframe\">\n",
       "  <thead>\n",
       "    <tr style=\"text-align: right;\">\n",
       "      <th></th>\n",
       "      <th>CP</th>\n",
       "      <th>max CP</th>\n",
       "      <th>level</th>\n",
       "      <th>attack</th>\n",
       "      <th>defense</th>\n",
       "      <th>stamina</th>\n",
       "      <th>a</th>\n",
       "      <th>d</th>\n",
       "      <th>s</th>\n",
       "      <th>statprod</th>\n",
       "    </tr>\n",
       "  </thead>\n",
       "  <tbody>\n",
       "  </tbody>\n",
       "</table>\n",
       "</div>"
      ],
      "text/plain": [
       "Empty DataFrame\n",
       "Columns: [CP, max CP, level, attack, defense, stamina, a, d, s, statprod]\n",
       "Index: []"
      ]
     },
     "metadata": {},
     "output_type": "display_data"
    },
    {
     "data": {
      "text/markdown": [
       "### Atk Focus (97.7 Atk, 125.94 def, 183 hp)"
      ],
      "text/plain": [
       "<IPython.core.display.Markdown object>"
      ]
     },
     "metadata": {},
     "output_type": "display_data"
    },
    {
     "data": {
      "text/html": [
       "<div>\n",
       "<style scoped>\n",
       "    .dataframe tbody tr th:only-of-type {\n",
       "        vertical-align: middle;\n",
       "    }\n",
       "\n",
       "    .dataframe tbody tr th {\n",
       "        vertical-align: top;\n",
       "    }\n",
       "\n",
       "    .dataframe thead th {\n",
       "        text-align: right;\n",
       "    }\n",
       "</style>\n",
       "<table border=\"1\" class=\"dataframe\">\n",
       "  <thead>\n",
       "    <tr style=\"text-align: right;\">\n",
       "      <th></th>\n",
       "      <th>CP</th>\n",
       "      <th>max CP</th>\n",
       "      <th>level</th>\n",
       "      <th>attack</th>\n",
       "      <th>defense</th>\n",
       "      <th>stamina</th>\n",
       "      <th>a</th>\n",
       "      <th>d</th>\n",
       "      <th>s</th>\n",
       "      <th>statprod</th>\n",
       "    </tr>\n",
       "  </thead>\n",
       "  <tbody>\n",
       "  </tbody>\n",
       "</table>\n",
       "</div>"
      ],
      "text/plain": [
       "Empty DataFrame\n",
       "Columns: [CP, max CP, level, attack, defense, stamina, a, d, s, statprod]\n",
       "Index: []"
      ]
     },
     "metadata": {},
     "output_type": "display_data"
    },
    {
     "data": {
      "text/markdown": [
       "### Budget Bois (97 Atk, 125.1 def, 181 hp)"
      ],
      "text/plain": [
       "<IPython.core.display.Markdown object>"
      ]
     },
     "metadata": {},
     "output_type": "display_data"
    },
    {
     "data": {
      "text/html": [
       "<div>\n",
       "<style scoped>\n",
       "    .dataframe tbody tr th:only-of-type {\n",
       "        vertical-align: middle;\n",
       "    }\n",
       "\n",
       "    .dataframe tbody tr th {\n",
       "        vertical-align: top;\n",
       "    }\n",
       "\n",
       "    .dataframe thead th {\n",
       "        text-align: right;\n",
       "    }\n",
       "</style>\n",
       "<table border=\"1\" class=\"dataframe\">\n",
       "  <thead>\n",
       "    <tr style=\"text-align: right;\">\n",
       "      <th></th>\n",
       "      <th>CP</th>\n",
       "      <th>max CP</th>\n",
       "      <th>level</th>\n",
       "      <th>attack</th>\n",
       "      <th>defense</th>\n",
       "      <th>stamina</th>\n",
       "      <th>a</th>\n",
       "      <th>d</th>\n",
       "      <th>s</th>\n",
       "      <th>statprod</th>\n",
       "    </tr>\n",
       "  </thead>\n",
       "  <tbody>\n",
       "    <tr>\n",
       "      <th>3</th>\n",
       "      <td>720</td>\n",
       "      <td>1499</td>\n",
       "      <td>50.0</td>\n",
       "      <td>99.155399</td>\n",
       "      <td>126.044999</td>\n",
       "      <td>181</td>\n",
       "      <td>10.0</td>\n",
       "      <td>13.0</td>\n",
       "      <td>9.0</td>\n",
       "      <td>2262145</td>\n",
       "    </tr>\n",
       "    <tr>\n",
       "      <th>6</th>\n",
       "      <td>1147</td>\n",
       "      <td>1495</td>\n",
       "      <td>49.0</td>\n",
       "      <td>98.565399</td>\n",
       "      <td>125.294999</td>\n",
       "      <td>183</td>\n",
       "      <td>10.0</td>\n",
       "      <td>13.0</td>\n",
       "      <td>13.0</td>\n",
       "      <td>2260004</td>\n",
       "    </tr>\n",
       "    <tr>\n",
       "      <th>0</th>\n",
       "      <td>477</td>\n",
       "      <td>1470</td>\n",
       "      <td>51.0</td>\n",
       "      <td>97.209499</td>\n",
       "      <td>125.949699</td>\n",
       "      <td>181</td>\n",
       "      <td>7.0</td>\n",
       "      <td>12.0</td>\n",
       "      <td>8.0</td>\n",
       "      <td>2216074</td>\n",
       "    </tr>\n",
       "  </tbody>\n",
       "</table>\n",
       "</div>"
      ],
      "text/plain": [
       "     CP  max CP  level     attack     defense  stamina     a     d     s  \\\n",
       "3   720    1499   50.0  99.155399  126.044999      181  10.0  13.0   9.0   \n",
       "6  1147    1495   49.0  98.565399  125.294999      183  10.0  13.0  13.0   \n",
       "0   477    1470   51.0  97.209499  125.949699      181   7.0  12.0   8.0   \n",
       "\n",
       "   statprod  \n",
       "3   2262145  \n",
       "6   2260004  \n",
       "0   2216074  "
      ]
     },
     "metadata": {},
     "output_type": "display_data"
    },
    {
     "data": {
      "text/markdown": [
       "## Ultra League"
      ],
      "text/plain": [
       "<IPython.core.display.Markdown object>"
      ]
     },
     "metadata": {},
     "output_type": "display_data"
    }
   ],
   "source": [
    "pvprankings.display_rs_info(df,'Lickitung')"
   ]
  },
  {
   "cell_type": "code",
   "execution_count": 12,
   "id": "cc955c7e-6645-4c48-a04e-1b693ba7c7cb",
   "metadata": {},
   "outputs": [
    {
     "data": {
      "text/markdown": [
       "# Noctowls you have, according to the Swag Man"
      ],
      "text/plain": [
       "<IPython.core.display.Markdown object>"
      ]
     },
     "metadata": {},
     "output_type": "display_data"
    },
    {
     "data": {
      "text/markdown": [
       "Check out the article [here](https://gamepress.gg/pokemongo/noctowl-pvp-iv-deep-dive)!"
      ],
      "text/plain": [
       "<IPython.core.display.Markdown object>"
      ]
     },
     "metadata": {},
     "output_type": "display_data"
    },
    {
     "data": {
      "text/markdown": [
       "Check out the videos: [here](https://www.youtube.com/watch?v=sdagO7Z8p6w&t=85s)!"
      ],
      "text/plain": [
       "<IPython.core.display.Markdown object>"
      ]
     },
     "metadata": {},
     "output_type": "display_data"
    },
    {
     "data": {
      "text/markdown": [
       "Extra Tips: \n",
       "        People use slight atk and azu slayer primarily. not a9 slayer.\n",
       "\n",
       "        For Atk:\n",
       "\n",
       "            * Rank 24 >= Rank 4 > Rank 40/41 > All else\n",
       "            * 104.8 Atk for 127.7 Def (Rank 2 GFisk)\n",
       "            * You can thrift on Def, just be cautious about sinking below 117.58\n",
       "\n",
       "        For Azu Slayer\n",
       "\n",
       "           * Ranks 67 & 68 have notable bulk\n",
       "           * >105.8 Atk can get Charge Move Priority on Medicham which can be significant\n",
       "               * 169 HP or 168 HP + >118.75 Def have higher Medicham 2-2 consistency\n",
       "           * >106 Atk gets the GFisk Breakpoint on the Rank 3 (0/15/11) (the highest reasonably Def weighted GFisk)\n",
       "\n",
       "        For A9 Slayer\n",
       "\n",
       "           * Enables the 2-2 vs nearly all Alolan Nineales\n",
       "               * 138.9 Def weights will require >107 Atk\n",
       "           * The Top 5 of the group have bulk balanced to the 0-0 mirror & potentially the Venusaur 0-1\n",
       "           * The 2/0/15 can also 2-1 Tapu Fini\n",
       "               * The Alolan Ninetales flip can also be achieved with high enough Def, but given the wide Atk Range of Alolan Ninetales + the HP drop, the high HP low Def versions are generally more useful\n",
       "\n"
      ],
      "text/plain": [
       "<IPython.core.display.Markdown object>"
      ]
     },
     "metadata": {},
     "output_type": "display_data"
    },
    {
     "data": {
      "text/markdown": [
       "## Great League"
      ],
      "text/plain": [
       "<IPython.core.display.Markdown object>"
      ]
     },
     "metadata": {},
     "output_type": "display_data"
    },
    {
     "data": {
      "text/markdown": [
       "### Slight Atk"
      ],
      "text/plain": [
       "<IPython.core.display.Markdown object>"
      ]
     },
     "metadata": {},
     "output_type": "display_data"
    },
    {
     "data": {
      "text/html": [
       "<div>\n",
       "<style scoped>\n",
       "    .dataframe tbody tr th:only-of-type {\n",
       "        vertical-align: middle;\n",
       "    }\n",
       "\n",
       "    .dataframe tbody tr th {\n",
       "        vertical-align: top;\n",
       "    }\n",
       "\n",
       "    .dataframe thead th {\n",
       "        text-align: right;\n",
       "    }\n",
       "</style>\n",
       "<table border=\"1\" class=\"dataframe\">\n",
       "  <thead>\n",
       "    <tr style=\"text-align: right;\">\n",
       "      <th></th>\n",
       "      <th>CP</th>\n",
       "      <th>max CP</th>\n",
       "      <th>level</th>\n",
       "      <th>attack</th>\n",
       "      <th>defense</th>\n",
       "      <th>stamina</th>\n",
       "      <th>a</th>\n",
       "      <th>d</th>\n",
       "      <th>s</th>\n",
       "      <th>statprod</th>\n",
       "    </tr>\n",
       "  </thead>\n",
       "  <tbody>\n",
       "  </tbody>\n",
       "</table>\n",
       "</div>"
      ],
      "text/plain": [
       "Empty DataFrame\n",
       "Columns: [CP, max CP, level, attack, defense, stamina, a, d, s, statprod]\n",
       "Index: []"
      ]
     },
     "metadata": {},
     "output_type": "display_data"
    },
    {
     "data": {
      "text/markdown": [
       "### Azu Slayer"
      ],
      "text/plain": [
       "<IPython.core.display.Markdown object>"
      ]
     },
     "metadata": {},
     "output_type": "display_data"
    },
    {
     "data": {
      "text/html": [
       "<div>\n",
       "<style scoped>\n",
       "    .dataframe tbody tr th:only-of-type {\n",
       "        vertical-align: middle;\n",
       "    }\n",
       "\n",
       "    .dataframe tbody tr th {\n",
       "        vertical-align: top;\n",
       "    }\n",
       "\n",
       "    .dataframe thead th {\n",
       "        text-align: right;\n",
       "    }\n",
       "</style>\n",
       "<table border=\"1\" class=\"dataframe\">\n",
       "  <thead>\n",
       "    <tr style=\"text-align: right;\">\n",
       "      <th></th>\n",
       "      <th>CP</th>\n",
       "      <th>max CP</th>\n",
       "      <th>level</th>\n",
       "      <th>attack</th>\n",
       "      <th>defense</th>\n",
       "      <th>stamina</th>\n",
       "      <th>a</th>\n",
       "      <th>d</th>\n",
       "      <th>s</th>\n",
       "      <th>statprod</th>\n",
       "    </tr>\n",
       "  </thead>\n",
       "  <tbody>\n",
       "    <tr>\n",
       "      <th>4</th>\n",
       "      <td>96</td>\n",
       "      <td>1500</td>\n",
       "      <td>28.0</td>\n",
       "      <td>105.325746</td>\n",
       "      <td>120.170314</td>\n",
       "      <td>168</td>\n",
       "      <td>4.0</td>\n",
       "      <td>14.0</td>\n",
       "      <td>14.0</td>\n",
       "      <td>2126380</td>\n",
       "    </tr>\n",
       "    <tr>\n",
       "      <th>11</th>\n",
       "      <td>383</td>\n",
       "      <td>1500</td>\n",
       "      <td>28.0</td>\n",
       "      <td>106.032630</td>\n",
       "      <td>118.049661</td>\n",
       "      <td>169</td>\n",
       "      <td>5.0</td>\n",
       "      <td>11.0</td>\n",
       "      <td>15.0</td>\n",
       "      <td>2115392</td>\n",
       "    </tr>\n",
       "    <tr>\n",
       "      <th>3</th>\n",
       "      <td>330</td>\n",
       "      <td>1493</td>\n",
       "      <td>28.0</td>\n",
       "      <td>105.325746</td>\n",
       "      <td>119.463430</td>\n",
       "      <td>168</td>\n",
       "      <td>4.0</td>\n",
       "      <td>13.0</td>\n",
       "      <td>13.0</td>\n",
       "      <td>2113872</td>\n",
       "    </tr>\n",
       "  </tbody>\n",
       "</table>\n",
       "</div>"
      ],
      "text/plain": [
       "     CP  max CP  level      attack     defense  stamina    a     d     s  \\\n",
       "4    96    1500   28.0  105.325746  120.170314      168  4.0  14.0  14.0   \n",
       "11  383    1500   28.0  106.032630  118.049661      169  5.0  11.0  15.0   \n",
       "3   330    1493   28.0  105.325746  119.463430      168  4.0  13.0  13.0   \n",
       "\n",
       "    statprod  \n",
       "4    2126380  \n",
       "11   2115392  \n",
       "3    2113872  "
      ]
     },
     "metadata": {},
     "output_type": "display_data"
    },
    {
     "data": {
      "text/markdown": [
       "### A9 Slayer"
      ],
      "text/plain": [
       "<IPython.core.display.Markdown object>"
      ]
     },
     "metadata": {},
     "output_type": "display_data"
    },
    {
     "data": {
      "text/html": [
       "<div>\n",
       "<style scoped>\n",
       "    .dataframe tbody tr th:only-of-type {\n",
       "        vertical-align: middle;\n",
       "    }\n",
       "\n",
       "    .dataframe tbody tr th {\n",
       "        vertical-align: top;\n",
       "    }\n",
       "\n",
       "    .dataframe thead th {\n",
       "        text-align: right;\n",
       "    }\n",
       "</style>\n",
       "<table border=\"1\" class=\"dataframe\">\n",
       "  <thead>\n",
       "    <tr style=\"text-align: right;\">\n",
       "      <th></th>\n",
       "      <th>CP</th>\n",
       "      <th>max CP</th>\n",
       "      <th>level</th>\n",
       "      <th>attack</th>\n",
       "      <th>defense</th>\n",
       "      <th>stamina</th>\n",
       "      <th>a</th>\n",
       "      <th>d</th>\n",
       "      <th>s</th>\n",
       "      <th>statprod</th>\n",
       "    </tr>\n",
       "  </thead>\n",
       "  <tbody>\n",
       "  </tbody>\n",
       "</table>\n",
       "</div>"
      ],
      "text/plain": [
       "Empty DataFrame\n",
       "Columns: [CP, max CP, level, attack, defense, stamina, a, d, s, statprod]\n",
       "Index: []"
      ]
     },
     "metadata": {},
     "output_type": "display_data"
    },
    {
     "data": {
      "text/markdown": [
       "## Ultra League"
      ],
      "text/plain": [
       "<IPython.core.display.Markdown object>"
      ]
     },
     "metadata": {},
     "output_type": "display_data"
    }
   ],
   "source": [
    "pvprankings.display_rs_info(df,'Noctowl')"
   ]
  },
  {
   "cell_type": "code",
   "execution_count": 18,
   "id": "191c4fdf-3fa4-4529-923e-77cc05a467e7",
   "metadata": {},
   "outputs": [
    {
     "data": {
      "text/markdown": [
       "# Dunsparces you have, according to the Swag Man"
      ],
      "text/plain": [
       "<IPython.core.display.Markdown object>"
      ]
     },
     "metadata": {},
     "output_type": "display_data"
    },
    {
     "data": {
      "text/markdown": [
       "Check out the article [here](https://gamepress.gg/pokemongo/dunsparce-pvp-iv-deep-dive)!"
      ],
      "text/plain": [
       "<IPython.core.display.Markdown object>"
      ]
     },
     "metadata": {},
     "output_type": "display_data"
    },
    {
     "data": {
      "text/markdown": [
       "Check out the videos: [here](https://www.youtube.com/watch?v=ZiZEbDqMur0)!"
      ],
      "text/plain": [
       "<IPython.core.display.Markdown object>"
      ]
     },
     "metadata": {},
     "output_type": "display_data"
    },
    {
     "data": {
      "text/markdown": [
       "Extra Tips: Cares ONLY about bulk, not about Atk at all"
      ],
      "text/plain": [
       "<IPython.core.display.Markdown object>"
      ]
     },
     "metadata": {},
     "output_type": "display_data"
    },
    {
     "data": {
      "text/markdown": [
       "## Great League"
      ],
      "text/plain": [
       "<IPython.core.display.Markdown object>"
      ]
     },
     "metadata": {},
     "output_type": "display_data"
    },
    {
     "data": {
      "text/markdown": [
       "### Basic Bulk"
      ],
      "text/plain": [
       "<IPython.core.display.Markdown object>"
      ]
     },
     "metadata": {},
     "output_type": "display_data"
    },
    {
     "data": {
      "text/html": [
       "<div>\n",
       "<style scoped>\n",
       "    .dataframe tbody tr th:only-of-type {\n",
       "        vertical-align: middle;\n",
       "    }\n",
       "\n",
       "    .dataframe tbody tr th {\n",
       "        vertical-align: top;\n",
       "    }\n",
       "\n",
       "    .dataframe thead th {\n",
       "        text-align: right;\n",
       "    }\n",
       "</style>\n",
       "<table border=\"1\" class=\"dataframe\">\n",
       "  <thead>\n",
       "    <tr style=\"text-align: right;\">\n",
       "      <th></th>\n",
       "      <th>CP</th>\n",
       "      <th>max CP</th>\n",
       "      <th>level</th>\n",
       "      <th>attack</th>\n",
       "      <th>defense</th>\n",
       "      <th>stamina</th>\n",
       "      <th>a</th>\n",
       "      <th>d</th>\n",
       "      <th>s</th>\n",
       "      <th>statprod</th>\n",
       "    </tr>\n",
       "  </thead>\n",
       "  <tbody>\n",
       "    <tr>\n",
       "      <th>0</th>\n",
       "      <td>997</td>\n",
       "      <td>1496</td>\n",
       "      <td>39.0</td>\n",
       "      <td>104.356721</td>\n",
       "      <td>110.633817</td>\n",
       "      <td>185</td>\n",
       "      <td>2.0</td>\n",
       "      <td>13.0</td>\n",
       "      <td>12.0</td>\n",
       "      <td>2135895</td>\n",
       "    </tr>\n",
       "  </tbody>\n",
       "</table>\n",
       "</div>"
      ],
      "text/plain": [
       "    CP  max CP  level      attack     defense  stamina    a     d     s  \\\n",
       "0  997    1496   39.0  104.356721  110.633817      185  2.0  13.0  12.0   \n",
       "\n",
       "   statprod  \n",
       "0   2135895  "
      ]
     },
     "metadata": {},
     "output_type": "display_data"
    },
    {
     "data": {
      "text/markdown": [
       "### Premium Bulk"
      ],
      "text/plain": [
       "<IPython.core.display.Markdown object>"
      ]
     },
     "metadata": {},
     "output_type": "display_data"
    },
    {
     "data": {
      "text/html": [
       "<div>\n",
       "<style scoped>\n",
       "    .dataframe tbody tr th:only-of-type {\n",
       "        vertical-align: middle;\n",
       "    }\n",
       "\n",
       "    .dataframe tbody tr th {\n",
       "        vertical-align: top;\n",
       "    }\n",
       "\n",
       "    .dataframe thead th {\n",
       "        text-align: right;\n",
       "    }\n",
       "</style>\n",
       "<table border=\"1\" class=\"dataframe\">\n",
       "  <thead>\n",
       "    <tr style=\"text-align: right;\">\n",
       "      <th></th>\n",
       "      <th>CP</th>\n",
       "      <th>max CP</th>\n",
       "      <th>level</th>\n",
       "      <th>attack</th>\n",
       "      <th>defense</th>\n",
       "      <th>stamina</th>\n",
       "      <th>a</th>\n",
       "      <th>d</th>\n",
       "      <th>s</th>\n",
       "      <th>statprod</th>\n",
       "    </tr>\n",
       "  </thead>\n",
       "  <tbody>\n",
       "  </tbody>\n",
       "</table>\n",
       "</div>"
      ],
      "text/plain": [
       "Empty DataFrame\n",
       "Columns: [CP, max CP, level, attack, defense, stamina, a, d, s, statprod]\n",
       "Index: []"
      ]
     },
     "metadata": {},
     "output_type": "display_data"
    },
    {
     "data": {
      "text/markdown": [
       "## Ultra League"
      ],
      "text/plain": [
       "<IPython.core.display.Markdown object>"
      ]
     },
     "metadata": {},
     "output_type": "display_data"
    }
   ],
   "source": [
    "pvprankings.display_rs_info(df,'Dunsparce')"
   ]
  },
  {
   "cell_type": "code",
   "execution_count": null,
   "id": "d94eaeaf-b308-4d42-8a4a-a982b380e667",
   "metadata": {},
   "outputs": [],
   "source": []
  },
  {
   "cell_type": "code",
   "execution_count": null,
   "id": "1fb1da3e-cc34-4598-a3a2-ed105facaf94",
   "metadata": {},
   "outputs": [],
   "source": []
  }
 ],
 "metadata": {
  "kernelspec": {
   "display_name": "Python 3 (ipykernel)",
   "language": "python",
   "name": "python3"
  },
  "language_info": {
   "codemirror_mode": {
    "name": "ipython",
    "version": 3
   },
   "file_extension": ".py",
   "mimetype": "text/x-python",
   "name": "python",
   "nbconvert_exporter": "python",
   "pygments_lexer": "ipython3",
   "version": "3.10.4"
  }
 },
 "nbformat": 4,
 "nbformat_minor": 5
}
