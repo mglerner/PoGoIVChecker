{
 "cells": [
  {
   "cell_type": "markdown",
   "id": "14956a63-cdd7-41da-a8c9-91d2187dc69b",
   "metadata": {},
   "source": [
    "# TODO:\n",
    "\n",
    "* Factor this\n",
    "* Put it into the real python code so we can quiz people about battle outcomes (which need actual damage done)\n",
    "* This code disagrees with pvpivs for the stat product, and it's because of floating point differences. The relative rankings will be the same.\n",
    "* Put something in that makes it easier to switch between level 50 and level 40 as max"
   ]
  },
  {
   "cell_type": "markdown",
   "id": "dd057160-22f6-487e-b6eb-45d51b387515",
   "metadata": {},
   "source": [
    "So far, I've put in at least some info on the following mons:\n",
    "\n",
    "* Walrein\n",
    "* Venusaur\n",
    "* Swampert\n",
    "* Jumpluff\n",
    "* Deoxys (Defense)\n",
    "* Dewgong\n",
    "* Sandslash\n",
    "* Whimsicott\n",
    "* Registeel\n",
    "* Azumarill\n",
    "* Araquanid\n",
    "* Golem\n",
    "* Marowak\n",
    "* Obstagoon\n",
    "* Linoone (Galarian)\n",
    "* Medicham\n",
    "* Dunsparce\n",
    "* Stunfisk (Galarian)\n",
    "* Lickitung\n",
    "* Toxapex\n",
    "* Toxicroak\n",
    "* Trevenant\n",
    "\n",
    "You run the below cells, and then replace e.g. 'Trevenant' with the mon you're interested in\n",
    "\n",
    "It shows you all of the relevant things that are Trevenant ... or that you can evolve to Trevenant."
   ]
  },
  {
   "cell_type": "code",
   "execution_count": 2,
   "id": "08791722-3815-4f89-acf2-4f57acf39d92",
   "metadata": {},
   "outputs": [],
   "source": [
    "import imp\n",
    "import pvprankings\n",
    "import pandas as pd\n",
    "imp.reload(pvprankings)\n",
    "df = pd.read_csv('poke_genie_export.csv')"
   ]
  },
  {
   "cell_type": "code",
   "execution_count": 3,
   "id": "0d77ecc9-b884-410c-ac14-a36f35c204c5",
   "metadata": {},
   "outputs": [
    {
     "data": {
      "text/markdown": [
       "# Trevenants you have, according to the Swag Man"
      ],
      "text/plain": [
       "<IPython.core.display.Markdown object>"
      ]
     },
     "metadata": {},
     "output_type": "display_data"
    },
    {
     "data": {
      "text/markdown": [
       "Check out the article [here](https://gamepress.gg/pokemongo/trevenant-pvp-iv-deep-dive)!"
      ],
      "text/plain": [
       "<IPython.core.display.Markdown object>"
      ]
     },
     "metadata": {},
     "output_type": "display_data"
    },
    {
     "data": {
      "text/markdown": [
       "Check out the videos: [here](https://www.youtube.com/watch?v=-02-DBdvGJk&t=738s) [here](https://www.youtube.com/watch?v=Y2tMAs-oZKQ&t=573s)!"
      ],
      "text/plain": [
       "<IPython.core.display.Markdown object>"
      ]
     },
     "metadata": {},
     "output_type": "display_data"
    },
    {
     "data": {
      "text/markdown": [
       "Extra Tips: \n",
       "For great, high def and min HP are most valuable\n",
       "\n",
       "Gotta check the actual article on all of these. Ryan Swag lists individual IVs, and I just took some baselines from those.\n"
      ],
      "text/plain": [
       "<IPython.core.display.Markdown object>"
      ]
     },
     "metadata": {},
     "output_type": "display_data"
    },
    {
     "data": {
      "text/markdown": [
       "## Great League"
      ],
      "text/plain": [
       "<IPython.core.display.Markdown object>"
      ]
     },
     "metadata": {},
     "output_type": "display_data"
    },
    {
     "data": {
      "text/markdown": [
       "### Best"
      ],
      "text/plain": [
       "<IPython.core.display.Markdown object>"
      ]
     },
     "metadata": {},
     "output_type": "display_data"
    },
    {
     "data": {
      "text/html": [
       "<div>\n",
       "<style scoped>\n",
       "    .dataframe tbody tr th:only-of-type {\n",
       "        vertical-align: middle;\n",
       "    }\n",
       "\n",
       "    .dataframe tbody tr th {\n",
       "        vertical-align: top;\n",
       "    }\n",
       "\n",
       "    .dataframe thead th {\n",
       "        text-align: right;\n",
       "    }\n",
       "</style>\n",
       "<table border=\"1\" class=\"dataframe\">\n",
       "  <thead>\n",
       "    <tr style=\"text-align: right;\">\n",
       "      <th></th>\n",
       "      <th>CP</th>\n",
       "      <th>max CP</th>\n",
       "      <th>level</th>\n",
       "      <th>attack</th>\n",
       "      <th>defense</th>\n",
       "      <th>stamina</th>\n",
       "      <th>a</th>\n",
       "      <th>d</th>\n",
       "      <th>s</th>\n",
       "      <th>statprod</th>\n",
       "    </tr>\n",
       "  </thead>\n",
       "  <tbody>\n",
       "    <tr>\n",
       "      <th>2</th>\n",
       "      <td>570</td>\n",
       "      <td>1490</td>\n",
       "      <td>22.0</td>\n",
       "      <td>127.819688</td>\n",
       "      <td>105.88984</td>\n",
       "      <td>128</td>\n",
       "      <td>3.0</td>\n",
       "      <td>15.0</td>\n",
       "      <td>7.0</td>\n",
       "      <td>1732455</td>\n",
       "    </tr>\n",
       "  </tbody>\n",
       "</table>\n",
       "</div>"
      ],
      "text/plain": [
       "    CP  max CP  level      attack    defense  stamina    a     d    s  \\\n",
       "2  570    1490   22.0  127.819688  105.88984      128  3.0  15.0  7.0   \n",
       "\n",
       "   statprod  \n",
       "2   1732455  "
      ]
     },
     "metadata": {},
     "output_type": "display_data"
    },
    {
     "data": {
      "text/markdown": [
       "### Next"
      ],
      "text/plain": [
       "<IPython.core.display.Markdown object>"
      ]
     },
     "metadata": {},
     "output_type": "display_data"
    },
    {
     "data": {
      "text/html": [
       "<div>\n",
       "<style scoped>\n",
       "    .dataframe tbody tr th:only-of-type {\n",
       "        vertical-align: middle;\n",
       "    }\n",
       "\n",
       "    .dataframe tbody tr th {\n",
       "        vertical-align: top;\n",
       "    }\n",
       "\n",
       "    .dataframe thead th {\n",
       "        text-align: right;\n",
       "    }\n",
       "</style>\n",
       "<table border=\"1\" class=\"dataframe\">\n",
       "  <thead>\n",
       "    <tr style=\"text-align: right;\">\n",
       "      <th></th>\n",
       "      <th>CP</th>\n",
       "      <th>max CP</th>\n",
       "      <th>level</th>\n",
       "      <th>attack</th>\n",
       "      <th>defense</th>\n",
       "      <th>stamina</th>\n",
       "      <th>a</th>\n",
       "      <th>d</th>\n",
       "      <th>s</th>\n",
       "      <th>statprod</th>\n",
       "    </tr>\n",
       "  </thead>\n",
       "  <tbody>\n",
       "    <tr>\n",
       "      <th>2</th>\n",
       "      <td>570</td>\n",
       "      <td>1490</td>\n",
       "      <td>22.0</td>\n",
       "      <td>127.819688</td>\n",
       "      <td>105.88984</td>\n",
       "      <td>128</td>\n",
       "      <td>3.0</td>\n",
       "      <td>15.0</td>\n",
       "      <td>7.0</td>\n",
       "      <td>1732455</td>\n",
       "    </tr>\n",
       "    <tr>\n",
       "      <th>59</th>\n",
       "      <td>457</td>\n",
       "      <td>1494</td>\n",
       "      <td>22.0</td>\n",
       "      <td>129.072823</td>\n",
       "      <td>105.88984</td>\n",
       "      <td>126</td>\n",
       "      <td>5.0</td>\n",
       "      <td>15.0</td>\n",
       "      <td>4.0</td>\n",
       "      <td>1722105</td>\n",
       "    </tr>\n",
       "  </tbody>\n",
       "</table>\n",
       "</div>"
      ],
      "text/plain": [
       "     CP  max CP  level      attack    defense  stamina    a     d    s  \\\n",
       "2   570    1490   22.0  127.819688  105.88984      128  3.0  15.0  7.0   \n",
       "59  457    1494   22.0  129.072823  105.88984      126  5.0  15.0  4.0   \n",
       "\n",
       "    statprod  \n",
       "2    1732455  \n",
       "59   1722105  "
      ]
     },
     "metadata": {},
     "output_type": "display_data"
    },
    {
     "data": {
      "text/markdown": [
       "## Ultra League"
      ],
      "text/plain": [
       "<IPython.core.display.Markdown object>"
      ]
     },
     "metadata": {},
     "output_type": "display_data"
    },
    {
     "data": {
      "text/markdown": [
       "### Atk"
      ],
      "text/plain": [
       "<IPython.core.display.Markdown object>"
      ]
     },
     "metadata": {},
     "output_type": "display_data"
    },
    {
     "data": {
      "text/html": [
       "<div>\n",
       "<style scoped>\n",
       "    .dataframe tbody tr th:only-of-type {\n",
       "        vertical-align: middle;\n",
       "    }\n",
       "\n",
       "    .dataframe tbody tr th {\n",
       "        vertical-align: top;\n",
       "    }\n",
       "\n",
       "    .dataframe thead th {\n",
       "        text-align: right;\n",
       "    }\n",
       "</style>\n",
       "<table border=\"1\" class=\"dataframe\">\n",
       "  <thead>\n",
       "    <tr style=\"text-align: right;\">\n",
       "      <th></th>\n",
       "      <th>CP</th>\n",
       "      <th>max CP</th>\n",
       "      <th>level</th>\n",
       "      <th>attack</th>\n",
       "      <th>defense</th>\n",
       "      <th>stamina</th>\n",
       "      <th>a</th>\n",
       "      <th>d</th>\n",
       "      <th>s</th>\n",
       "      <th>statprod</th>\n",
       "    </tr>\n",
       "  </thead>\n",
       "  <tbody>\n",
       "    <tr>\n",
       "      <th>20</th>\n",
       "      <td>825</td>\n",
       "      <td>2500</td>\n",
       "      <td>44.5</td>\n",
       "      <td>169.062397</td>\n",
       "      <td>130.047998</td>\n",
       "      <td>168</td>\n",
       "      <td>7.0</td>\n",
       "      <td>6.0</td>\n",
       "      <td>9.0</td>\n",
       "      <td>3693685</td>\n",
       "    </tr>\n",
       "    <tr>\n",
       "      <th>44</th>\n",
       "      <td>613</td>\n",
       "      <td>2498</td>\n",
       "      <td>40.5</td>\n",
       "      <td>168.867245</td>\n",
       "      <td>130.812655</td>\n",
       "      <td>167</td>\n",
       "      <td>12.0</td>\n",
       "      <td>11.0</td>\n",
       "      <td>13.0</td>\n",
       "      <td>3689025</td>\n",
       "    </tr>\n",
       "    <tr>\n",
       "      <th>3</th>\n",
       "      <td>901</td>\n",
       "      <td>2496</td>\n",
       "      <td>41.5</td>\n",
       "      <td>169.133603</td>\n",
       "      <td>130.041402</td>\n",
       "      <td>167</td>\n",
       "      <td>11.0</td>\n",
       "      <td>9.0</td>\n",
       "      <td>12.0</td>\n",
       "      <td>3673059</td>\n",
       "    </tr>\n",
       "    <tr>\n",
       "      <th>26</th>\n",
       "      <td>622</td>\n",
       "      <td>2500</td>\n",
       "      <td>49.5</td>\n",
       "      <td>170.073398</td>\n",
       "      <td>129.021198</td>\n",
       "      <td>167</td>\n",
       "      <td>2.0</td>\n",
       "      <td>0.0</td>\n",
       "      <td>2.0</td>\n",
       "      <td>3664493</td>\n",
       "    </tr>\n",
       "  </tbody>\n",
       "</table>\n",
       "</div>"
      ],
      "text/plain": [
       "     CP  max CP  level      attack     defense  stamina     a     d     s  \\\n",
       "20  825    2500   44.5  169.062397  130.047998      168   7.0   6.0   9.0   \n",
       "44  613    2498   40.5  168.867245  130.812655      167  12.0  11.0  13.0   \n",
       "3   901    2496   41.5  169.133603  130.041402      167  11.0   9.0  12.0   \n",
       "26  622    2500   49.5  170.073398  129.021198      167   2.0   0.0   2.0   \n",
       "\n",
       "    statprod  \n",
       "20   3693685  \n",
       "44   3689025  \n",
       "3    3673059  \n",
       "26   3664493  "
      ]
     },
     "metadata": {},
     "output_type": "display_data"
    }
   ],
   "source": [
    "pvprankings.display_rs_info(df,'Trevenant')"
   ]
  },
  {
   "cell_type": "code",
   "execution_count": 4,
   "id": "33e6e894-7f82-4988-bcc5-70a8bf767fd3",
   "metadata": {},
   "outputs": [
    {
     "data": {
      "text/markdown": [
       "# Toxapexs you have, according to the Swag Man"
      ],
      "text/plain": [
       "<IPython.core.display.Markdown object>"
      ]
     },
     "metadata": {},
     "output_type": "display_data"
    },
    {
     "data": {
      "text/markdown": [
       "Check out the article [here](https://gamepress.gg/pokemongo/toxapex-pvp-iv-deep-dive)!"
      ],
      "text/plain": [
       "<IPython.core.display.Markdown object>"
      ]
     },
     "metadata": {},
     "output_type": "display_data"
    },
    {
     "data": {
      "text/markdown": [
       "Check out the videos: [here](https://www.youtube.com/watch?v=7ZiNZvY8uXs)!"
      ],
      "text/plain": [
       "<IPython.core.display.Markdown object>"
      ]
     },
     "metadata": {},
     "output_type": "display_data"
    },
    {
     "data": {
      "text/markdown": [
       "Extra Tips: \n",
       "\n",
       "        High Bulk:\n",
       "        * For tie-breakers, generally HP > Def\n",
       "        * If you fear Swampert, 227.82+ Def is important\n",
       "        * If you hate Venusaur & Jumpluff, 91+ Atk is important\n",
       "\n",
       "        Mirror Slayer\n",
       "        * If you hate Venusaur & Jumpluff, 91+ Atk is important\n",
       "\n",
       "        Lickitung Slayer\n",
       "        * Rank 1 and 2 Best Buddy Lickitung require 94.13 Atk\n",
       "\n",
       "        Which IV is best? See the article. But Rank 1 is great, Ranks 2 and 3 get CMP over things, ranks 4 and 9 do better against swampert, etc.\n"
      ],
      "text/plain": [
       "<IPython.core.display.Markdown object>"
      ]
     },
     "metadata": {},
     "output_type": "display_data"
    },
    {
     "data": {
      "text/markdown": [
       "## Great League"
      ],
      "text/plain": [
       "<IPython.core.display.Markdown object>"
      ]
     },
     "metadata": {},
     "output_type": "display_data"
    },
    {
     "data": {
      "text/markdown": [
       "### High Bulk (226.73 Def, 118 HP)"
      ],
      "text/plain": [
       "<IPython.core.display.Markdown object>"
      ]
     },
     "metadata": {},
     "output_type": "display_data"
    },
    {
     "data": {
      "text/html": [
       "<div>\n",
       "<style scoped>\n",
       "    .dataframe tbody tr th:only-of-type {\n",
       "        vertical-align: middle;\n",
       "    }\n",
       "\n",
       "    .dataframe tbody tr th {\n",
       "        vertical-align: top;\n",
       "    }\n",
       "\n",
       "    .dataframe thead th {\n",
       "        text-align: right;\n",
       "    }\n",
       "</style>\n",
       "<table border=\"1\" class=\"dataframe\">\n",
       "  <thead>\n",
       "    <tr style=\"text-align: right;\">\n",
       "      <th></th>\n",
       "      <th>CP</th>\n",
       "      <th>max CP</th>\n",
       "      <th>level</th>\n",
       "      <th>attack</th>\n",
       "      <th>defense</th>\n",
       "      <th>stamina</th>\n",
       "      <th>a</th>\n",
       "      <th>d</th>\n",
       "      <th>s</th>\n",
       "      <th>statprod</th>\n",
       "    </tr>\n",
       "  </thead>\n",
       "  <tbody>\n",
       "    <tr>\n",
       "      <th>0</th>\n",
       "      <td>380</td>\n",
       "      <td>1498</td>\n",
       "      <td>41.5</td>\n",
       "      <td>90.949202</td>\n",
       "      <td>229.766404</td>\n",
       "      <td>118</td>\n",
       "      <td>0.0</td>\n",
       "      <td>15.0</td>\n",
       "      <td>11.0</td>\n",
       "      <td>2465854</td>\n",
       "    </tr>\n",
       "  </tbody>\n",
       "</table>\n",
       "</div>"
      ],
      "text/plain": [
       "    CP  max CP  level     attack     defense  stamina    a     d     s  \\\n",
       "0  380    1498   41.5  90.949202  229.766404      118  0.0  15.0  11.0   \n",
       "\n",
       "   statprod  \n",
       "0   2465854  "
      ]
     },
     "metadata": {},
     "output_type": "display_data"
    },
    {
     "data": {
      "text/markdown": [
       "### Mirror Slayer/Big HP (219 Def, 121 HP)"
      ],
      "text/plain": [
       "<IPython.core.display.Markdown object>"
      ]
     },
     "metadata": {},
     "output_type": "display_data"
    },
    {
     "data": {
      "text/html": [
       "<div>\n",
       "<style scoped>\n",
       "    .dataframe tbody tr th:only-of-type {\n",
       "        vertical-align: middle;\n",
       "    }\n",
       "\n",
       "    .dataframe tbody tr th {\n",
       "        vertical-align: top;\n",
       "    }\n",
       "\n",
       "    .dataframe thead th {\n",
       "        text-align: right;\n",
       "    }\n",
       "</style>\n",
       "<table border=\"1\" class=\"dataframe\">\n",
       "  <thead>\n",
       "    <tr style=\"text-align: right;\">\n",
       "      <th></th>\n",
       "      <th>CP</th>\n",
       "      <th>max CP</th>\n",
       "      <th>level</th>\n",
       "      <th>attack</th>\n",
       "      <th>defense</th>\n",
       "      <th>stamina</th>\n",
       "      <th>a</th>\n",
       "      <th>d</th>\n",
       "      <th>s</th>\n",
       "      <th>statprod</th>\n",
       "    </tr>\n",
       "  </thead>\n",
       "  <tbody>\n",
       "  </tbody>\n",
       "</table>\n",
       "</div>"
      ],
      "text/plain": [
       "Empty DataFrame\n",
       "Columns: [CP, max CP, level, attack, defense, stamina, a, d, s, statprod]\n",
       "Index: []"
      ]
     },
     "metadata": {},
     "output_type": "display_data"
    },
    {
     "data": {
      "text/markdown": [
       "### Lickitung Slayer (93 Atk, 118 HP)"
      ],
      "text/plain": [
       "<IPython.core.display.Markdown object>"
      ]
     },
     "metadata": {},
     "output_type": "display_data"
    },
    {
     "data": {
      "text/html": [
       "<div>\n",
       "<style scoped>\n",
       "    .dataframe tbody tr th:only-of-type {\n",
       "        vertical-align: middle;\n",
       "    }\n",
       "\n",
       "    .dataframe tbody tr th {\n",
       "        vertical-align: top;\n",
       "    }\n",
       "\n",
       "    .dataframe thead th {\n",
       "        text-align: right;\n",
       "    }\n",
       "</style>\n",
       "<table border=\"1\" class=\"dataframe\">\n",
       "  <thead>\n",
       "    <tr style=\"text-align: right;\">\n",
       "      <th></th>\n",
       "      <th>CP</th>\n",
       "      <th>max CP</th>\n",
       "      <th>level</th>\n",
       "      <th>attack</th>\n",
       "      <th>defense</th>\n",
       "      <th>stamina</th>\n",
       "      <th>a</th>\n",
       "      <th>d</th>\n",
       "      <th>s</th>\n",
       "      <th>statprod</th>\n",
       "    </tr>\n",
       "  </thead>\n",
       "  <tbody>\n",
       "    <tr>\n",
       "      <th>29</th>\n",
       "      <td>461</td>\n",
       "      <td>1495</td>\n",
       "      <td>38.5</td>\n",
       "      <td>93.033017</td>\n",
       "      <td>217.337635</td>\n",
       "      <td>118</td>\n",
       "      <td>5.0</td>\n",
       "      <td>5.0</td>\n",
       "      <td>15.0</td>\n",
       "      <td>2385909</td>\n",
       "    </tr>\n",
       "  </tbody>\n",
       "</table>\n",
       "</div>"
      ],
      "text/plain": [
       "     CP  max CP  level     attack     defense  stamina    a    d     s  \\\n",
       "29  461    1495   38.5  93.033017  217.337635      118  5.0  5.0  15.0   \n",
       "\n",
       "    statprod  \n",
       "29   2385909  "
      ]
     },
     "metadata": {},
     "output_type": "display_data"
    },
    {
     "data": {
      "text/markdown": [
       "## Ultra League"
      ],
      "text/plain": [
       "<IPython.core.display.Markdown object>"
      ]
     },
     "metadata": {},
     "output_type": "display_data"
    }
   ],
   "source": [
    "pvprankings.display_rs_info(df,'Toxapex')"
   ]
  }
 ],
 "metadata": {
  "kernelspec": {
   "display_name": "Python 3 (ipykernel)",
   "language": "python",
   "name": "python3"
  },
  "language_info": {
   "codemirror_mode": {
    "name": "ipython",
    "version": 3
   },
   "file_extension": ".py",
   "mimetype": "text/x-python",
   "name": "python",
   "nbconvert_exporter": "python",
   "pygments_lexer": "ipython3",
   "version": "3.10.4"
  }
 },
 "nbformat": 4,
 "nbformat_minor": 5
}
